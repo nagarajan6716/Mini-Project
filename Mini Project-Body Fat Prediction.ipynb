{
 "cells": [
  {
   "cell_type": "markdown",
   "id": "8804b660",
   "metadata": {},
   "source": [
    "# Importing Libraries"
   ]
  },
  {
   "cell_type": "code",
   "execution_count": 1,
   "id": "98ddc901",
   "metadata": {},
   "outputs": [],
   "source": [
    "import numpy \n",
    "import pandas\n",
    "import matplotlib.pyplot as plt\n",
    "import seaborn as sns\n"
   ]
  },
  {
   "cell_type": "markdown",
   "id": "c5c6c6dd",
   "metadata": {},
   "source": [
    "## Data Frame"
   ]
  },
  {
   "cell_type": "code",
   "execution_count": 2,
   "id": "f40f0b65",
   "metadata": {},
   "outputs": [],
   "source": [
    "bodyfat=pandas.read_csv('C:/Users/HAI/Downloads/bodyfat (1).csv')"
   ]
  },
  {
   "cell_type": "code",
   "execution_count": 3,
   "id": "93437b53",
   "metadata": {},
   "outputs": [
    {
     "data": {
      "text/html": [
       "<div>\n",
       "<style scoped>\n",
       "    .dataframe tbody tr th:only-of-type {\n",
       "        vertical-align: middle;\n",
       "    }\n",
       "\n",
       "    .dataframe tbody tr th {\n",
       "        vertical-align: top;\n",
       "    }\n",
       "\n",
       "    .dataframe thead th {\n",
       "        text-align: right;\n",
       "    }\n",
       "</style>\n",
       "<table border=\"1\" class=\"dataframe\">\n",
       "  <thead>\n",
       "    <tr style=\"text-align: right;\">\n",
       "      <th></th>\n",
       "      <th>Density</th>\n",
       "      <th>BodyFat</th>\n",
       "      <th>Age</th>\n",
       "      <th>Weight</th>\n",
       "      <th>Height</th>\n",
       "      <th>Neck</th>\n",
       "      <th>Chest</th>\n",
       "      <th>Abdomen</th>\n",
       "      <th>Hip</th>\n",
       "      <th>Thigh</th>\n",
       "      <th>Knee</th>\n",
       "      <th>Ankle</th>\n",
       "      <th>Biceps</th>\n",
       "      <th>Forearm</th>\n",
       "      <th>Wrist</th>\n",
       "    </tr>\n",
       "  </thead>\n",
       "  <tbody>\n",
       "    <tr>\n",
       "      <th>0</th>\n",
       "      <td>1.0708</td>\n",
       "      <td>12.3</td>\n",
       "      <td>23</td>\n",
       "      <td>154.25</td>\n",
       "      <td>67.75</td>\n",
       "      <td>36.2</td>\n",
       "      <td>93.1</td>\n",
       "      <td>85.2</td>\n",
       "      <td>94.5</td>\n",
       "      <td>59.0</td>\n",
       "      <td>37.3</td>\n",
       "      <td>21.9</td>\n",
       "      <td>32.0</td>\n",
       "      <td>27.4</td>\n",
       "      <td>17.1</td>\n",
       "    </tr>\n",
       "    <tr>\n",
       "      <th>1</th>\n",
       "      <td>1.0853</td>\n",
       "      <td>6.1</td>\n",
       "      <td>22</td>\n",
       "      <td>173.25</td>\n",
       "      <td>72.25</td>\n",
       "      <td>38.5</td>\n",
       "      <td>93.6</td>\n",
       "      <td>83.0</td>\n",
       "      <td>98.7</td>\n",
       "      <td>58.7</td>\n",
       "      <td>37.3</td>\n",
       "      <td>23.4</td>\n",
       "      <td>30.5</td>\n",
       "      <td>28.9</td>\n",
       "      <td>18.2</td>\n",
       "    </tr>\n",
       "    <tr>\n",
       "      <th>2</th>\n",
       "      <td>1.0414</td>\n",
       "      <td>25.3</td>\n",
       "      <td>22</td>\n",
       "      <td>154.00</td>\n",
       "      <td>66.25</td>\n",
       "      <td>34.0</td>\n",
       "      <td>95.8</td>\n",
       "      <td>87.9</td>\n",
       "      <td>99.2</td>\n",
       "      <td>59.6</td>\n",
       "      <td>38.9</td>\n",
       "      <td>24.0</td>\n",
       "      <td>28.8</td>\n",
       "      <td>25.2</td>\n",
       "      <td>16.6</td>\n",
       "    </tr>\n",
       "    <tr>\n",
       "      <th>3</th>\n",
       "      <td>1.0751</td>\n",
       "      <td>10.4</td>\n",
       "      <td>26</td>\n",
       "      <td>184.75</td>\n",
       "      <td>72.25</td>\n",
       "      <td>37.4</td>\n",
       "      <td>101.8</td>\n",
       "      <td>86.4</td>\n",
       "      <td>101.2</td>\n",
       "      <td>60.1</td>\n",
       "      <td>37.3</td>\n",
       "      <td>22.8</td>\n",
       "      <td>32.4</td>\n",
       "      <td>29.4</td>\n",
       "      <td>18.2</td>\n",
       "    </tr>\n",
       "    <tr>\n",
       "      <th>4</th>\n",
       "      <td>1.0340</td>\n",
       "      <td>28.7</td>\n",
       "      <td>24</td>\n",
       "      <td>184.25</td>\n",
       "      <td>71.25</td>\n",
       "      <td>34.4</td>\n",
       "      <td>97.3</td>\n",
       "      <td>100.0</td>\n",
       "      <td>101.9</td>\n",
       "      <td>63.2</td>\n",
       "      <td>42.2</td>\n",
       "      <td>24.0</td>\n",
       "      <td>32.2</td>\n",
       "      <td>27.7</td>\n",
       "      <td>17.7</td>\n",
       "    </tr>\n",
       "    <tr>\n",
       "      <th>...</th>\n",
       "      <td>...</td>\n",
       "      <td>...</td>\n",
       "      <td>...</td>\n",
       "      <td>...</td>\n",
       "      <td>...</td>\n",
       "      <td>...</td>\n",
       "      <td>...</td>\n",
       "      <td>...</td>\n",
       "      <td>...</td>\n",
       "      <td>...</td>\n",
       "      <td>...</td>\n",
       "      <td>...</td>\n",
       "      <td>...</td>\n",
       "      <td>...</td>\n",
       "      <td>...</td>\n",
       "    </tr>\n",
       "    <tr>\n",
       "      <th>247</th>\n",
       "      <td>1.0736</td>\n",
       "      <td>11.0</td>\n",
       "      <td>70</td>\n",
       "      <td>134.25</td>\n",
       "      <td>67.00</td>\n",
       "      <td>34.9</td>\n",
       "      <td>89.2</td>\n",
       "      <td>83.6</td>\n",
       "      <td>88.8</td>\n",
       "      <td>49.6</td>\n",
       "      <td>34.8</td>\n",
       "      <td>21.5</td>\n",
       "      <td>25.6</td>\n",
       "      <td>25.7</td>\n",
       "      <td>18.5</td>\n",
       "    </tr>\n",
       "    <tr>\n",
       "      <th>248</th>\n",
       "      <td>1.0236</td>\n",
       "      <td>33.6</td>\n",
       "      <td>72</td>\n",
       "      <td>201.00</td>\n",
       "      <td>69.75</td>\n",
       "      <td>40.9</td>\n",
       "      <td>108.5</td>\n",
       "      <td>105.0</td>\n",
       "      <td>104.5</td>\n",
       "      <td>59.6</td>\n",
       "      <td>40.8</td>\n",
       "      <td>23.2</td>\n",
       "      <td>35.2</td>\n",
       "      <td>28.6</td>\n",
       "      <td>20.1</td>\n",
       "    </tr>\n",
       "    <tr>\n",
       "      <th>249</th>\n",
       "      <td>1.0328</td>\n",
       "      <td>29.3</td>\n",
       "      <td>72</td>\n",
       "      <td>186.75</td>\n",
       "      <td>66.00</td>\n",
       "      <td>38.9</td>\n",
       "      <td>111.1</td>\n",
       "      <td>111.5</td>\n",
       "      <td>101.7</td>\n",
       "      <td>60.3</td>\n",
       "      <td>37.3</td>\n",
       "      <td>21.5</td>\n",
       "      <td>31.3</td>\n",
       "      <td>27.2</td>\n",
       "      <td>18.0</td>\n",
       "    </tr>\n",
       "    <tr>\n",
       "      <th>250</th>\n",
       "      <td>1.0399</td>\n",
       "      <td>26.0</td>\n",
       "      <td>72</td>\n",
       "      <td>190.75</td>\n",
       "      <td>70.50</td>\n",
       "      <td>38.9</td>\n",
       "      <td>108.3</td>\n",
       "      <td>101.3</td>\n",
       "      <td>97.8</td>\n",
       "      <td>56.0</td>\n",
       "      <td>41.6</td>\n",
       "      <td>22.7</td>\n",
       "      <td>30.5</td>\n",
       "      <td>29.4</td>\n",
       "      <td>19.8</td>\n",
       "    </tr>\n",
       "    <tr>\n",
       "      <th>251</th>\n",
       "      <td>1.0271</td>\n",
       "      <td>31.9</td>\n",
       "      <td>74</td>\n",
       "      <td>207.50</td>\n",
       "      <td>70.00</td>\n",
       "      <td>40.8</td>\n",
       "      <td>112.4</td>\n",
       "      <td>108.5</td>\n",
       "      <td>107.1</td>\n",
       "      <td>59.3</td>\n",
       "      <td>42.2</td>\n",
       "      <td>24.6</td>\n",
       "      <td>33.7</td>\n",
       "      <td>30.0</td>\n",
       "      <td>20.9</td>\n",
       "    </tr>\n",
       "  </tbody>\n",
       "</table>\n",
       "<p>252 rows × 15 columns</p>\n",
       "</div>"
      ],
      "text/plain": [
       "     Density  BodyFat  Age  Weight  Height  Neck  Chest  Abdomen    Hip  \\\n",
       "0     1.0708     12.3   23  154.25   67.75  36.2   93.1     85.2   94.5   \n",
       "1     1.0853      6.1   22  173.25   72.25  38.5   93.6     83.0   98.7   \n",
       "2     1.0414     25.3   22  154.00   66.25  34.0   95.8     87.9   99.2   \n",
       "3     1.0751     10.4   26  184.75   72.25  37.4  101.8     86.4  101.2   \n",
       "4     1.0340     28.7   24  184.25   71.25  34.4   97.3    100.0  101.9   \n",
       "..       ...      ...  ...     ...     ...   ...    ...      ...    ...   \n",
       "247   1.0736     11.0   70  134.25   67.00  34.9   89.2     83.6   88.8   \n",
       "248   1.0236     33.6   72  201.00   69.75  40.9  108.5    105.0  104.5   \n",
       "249   1.0328     29.3   72  186.75   66.00  38.9  111.1    111.5  101.7   \n",
       "250   1.0399     26.0   72  190.75   70.50  38.9  108.3    101.3   97.8   \n",
       "251   1.0271     31.9   74  207.50   70.00  40.8  112.4    108.5  107.1   \n",
       "\n",
       "     Thigh  Knee  Ankle  Biceps  Forearm  Wrist  \n",
       "0     59.0  37.3   21.9    32.0     27.4   17.1  \n",
       "1     58.7  37.3   23.4    30.5     28.9   18.2  \n",
       "2     59.6  38.9   24.0    28.8     25.2   16.6  \n",
       "3     60.1  37.3   22.8    32.4     29.4   18.2  \n",
       "4     63.2  42.2   24.0    32.2     27.7   17.7  \n",
       "..     ...   ...    ...     ...      ...    ...  \n",
       "247   49.6  34.8   21.5    25.6     25.7   18.5  \n",
       "248   59.6  40.8   23.2    35.2     28.6   20.1  \n",
       "249   60.3  37.3   21.5    31.3     27.2   18.0  \n",
       "250   56.0  41.6   22.7    30.5     29.4   19.8  \n",
       "251   59.3  42.2   24.6    33.7     30.0   20.9  \n",
       "\n",
       "[252 rows x 15 columns]"
      ]
     },
     "execution_count": 3,
     "metadata": {},
     "output_type": "execute_result"
    }
   ],
   "source": [
    "bodyfat"
   ]
  },
  {
   "cell_type": "code",
   "execution_count": 4,
   "id": "403046b8",
   "metadata": {},
   "outputs": [
    {
     "data": {
      "text/plain": [
       "Density   -0.987782\n",
       "Height    -0.089495\n",
       "Ankle      0.265970\n",
       "Age        0.291458\n",
       "Wrist      0.346575\n",
       "Forearm    0.361387\n",
       "Neck       0.490592\n",
       "Biceps     0.493271\n",
       "Knee       0.508665\n",
       "Thigh      0.559608\n",
       "Weight     0.612414\n",
       "Hip        0.625201\n",
       "Chest      0.702620\n",
       "Abdomen    0.813432\n",
       "BodyFat    1.000000\n",
       "Name: BodyFat, dtype: float64"
      ]
     },
     "execution_count": 4,
     "metadata": {},
     "output_type": "execute_result"
    }
   ],
   "source": [
    "bodyfat.corr()['BodyFat'].sort_values()"
   ]
  },
  {
   "cell_type": "markdown",
   "id": "624a84b6",
   "metadata": {},
   "source": [
    "# statistics"
   ]
  },
  {
   "cell_type": "markdown",
   "id": "5564e0ec",
   "metadata": {},
   "source": [
    "## Mean"
   ]
  },
  {
   "cell_type": "code",
   "execution_count": 5,
   "id": "8ef7ea6f",
   "metadata": {},
   "outputs": [
    {
     "data": {
      "text/plain": [
       "Density      1.055574\n",
       "BodyFat     19.150794\n",
       "Age         44.884921\n",
       "Weight     178.924405\n",
       "Height      70.148810\n",
       "Neck        37.992063\n",
       "Chest      100.824206\n",
       "Abdomen     92.555952\n",
       "Hip         99.904762\n",
       "Thigh       59.405952\n",
       "Knee        38.590476\n",
       "Ankle       23.102381\n",
       "Biceps      32.273413\n",
       "Forearm     28.663889\n",
       "Wrist       18.229762\n",
       "dtype: float64"
      ]
     },
     "execution_count": 5,
     "metadata": {},
     "output_type": "execute_result"
    }
   ],
   "source": [
    "bodyfat.mean()"
   ]
  },
  {
   "cell_type": "markdown",
   "id": "59b45ae7",
   "metadata": {},
   "source": [
    "## Median"
   ]
  },
  {
   "cell_type": "code",
   "execution_count": 6,
   "id": "0911547e",
   "metadata": {},
   "outputs": [
    {
     "data": {
      "text/plain": [
       "Density      1.0549\n",
       "BodyFat     19.2000\n",
       "Age         43.0000\n",
       "Weight     176.5000\n",
       "Height      70.0000\n",
       "Neck        38.0000\n",
       "Chest       99.6500\n",
       "Abdomen     90.9500\n",
       "Hip         99.3000\n",
       "Thigh       59.0000\n",
       "Knee        38.5000\n",
       "Ankle       22.8000\n",
       "Biceps      32.0500\n",
       "Forearm     28.7000\n",
       "Wrist       18.3000\n",
       "dtype: float64"
      ]
     },
     "execution_count": 6,
     "metadata": {},
     "output_type": "execute_result"
    }
   ],
   "source": [
    "bodyfat.median()"
   ]
  },
  {
   "cell_type": "markdown",
   "id": "dec4c0e1",
   "metadata": {},
   "source": [
    "## Mode"
   ]
  },
  {
   "cell_type": "code",
   "execution_count": 7,
   "id": "f4d7214a",
   "metadata": {},
   "outputs": [
    {
     "data": {
      "text/html": [
       "<div>\n",
       "<style scoped>\n",
       "    .dataframe tbody tr th:only-of-type {\n",
       "        vertical-align: middle;\n",
       "    }\n",
       "\n",
       "    .dataframe tbody tr th {\n",
       "        vertical-align: top;\n",
       "    }\n",
       "\n",
       "    .dataframe thead th {\n",
       "        text-align: right;\n",
       "    }\n",
       "</style>\n",
       "<table border=\"1\" class=\"dataframe\">\n",
       "  <thead>\n",
       "    <tr style=\"text-align: right;\">\n",
       "      <th></th>\n",
       "      <th>Density</th>\n",
       "      <th>BodyFat</th>\n",
       "      <th>Age</th>\n",
       "      <th>Weight</th>\n",
       "      <th>Height</th>\n",
       "      <th>Neck</th>\n",
       "      <th>Chest</th>\n",
       "      <th>Abdomen</th>\n",
       "      <th>Hip</th>\n",
       "      <th>Thigh</th>\n",
       "      <th>Knee</th>\n",
       "      <th>Ankle</th>\n",
       "      <th>Biceps</th>\n",
       "      <th>Forearm</th>\n",
       "      <th>Wrist</th>\n",
       "    </tr>\n",
       "  </thead>\n",
       "  <tbody>\n",
       "    <tr>\n",
       "      <th>0</th>\n",
       "      <td>1.061</td>\n",
       "      <td>20.4</td>\n",
       "      <td>40.0</td>\n",
       "      <td>152.25</td>\n",
       "      <td>71.5</td>\n",
       "      <td>38.5</td>\n",
       "      <td>99.1</td>\n",
       "      <td>88.7</td>\n",
       "      <td>98.3</td>\n",
       "      <td>58.9</td>\n",
       "      <td>39.0</td>\n",
       "      <td>22.0</td>\n",
       "      <td>30.5</td>\n",
       "      <td>27.3</td>\n",
       "      <td>18.8</td>\n",
       "    </tr>\n",
       "    <tr>\n",
       "      <th>1</th>\n",
       "      <td>NaN</td>\n",
       "      <td>NaN</td>\n",
       "      <td>NaN</td>\n",
       "      <td>167.00</td>\n",
       "      <td>NaN</td>\n",
       "      <td>NaN</td>\n",
       "      <td>102.7</td>\n",
       "      <td>89.7</td>\n",
       "      <td>NaN</td>\n",
       "      <td>NaN</td>\n",
       "      <td>NaN</td>\n",
       "      <td>22.5</td>\n",
       "      <td>31.6</td>\n",
       "      <td>29.6</td>\n",
       "      <td>NaN</td>\n",
       "    </tr>\n",
       "    <tr>\n",
       "      <th>2</th>\n",
       "      <td>NaN</td>\n",
       "      <td>NaN</td>\n",
       "      <td>NaN</td>\n",
       "      <td>168.00</td>\n",
       "      <td>NaN</td>\n",
       "      <td>NaN</td>\n",
       "      <td>NaN</td>\n",
       "      <td>100.5</td>\n",
       "      <td>NaN</td>\n",
       "      <td>NaN</td>\n",
       "      <td>NaN</td>\n",
       "      <td>22.6</td>\n",
       "      <td>NaN</td>\n",
       "      <td>29.8</td>\n",
       "      <td>NaN</td>\n",
       "    </tr>\n",
       "    <tr>\n",
       "      <th>3</th>\n",
       "      <td>NaN</td>\n",
       "      <td>NaN</td>\n",
       "      <td>NaN</td>\n",
       "      <td>168.25</td>\n",
       "      <td>NaN</td>\n",
       "      <td>NaN</td>\n",
       "      <td>NaN</td>\n",
       "      <td>NaN</td>\n",
       "      <td>NaN</td>\n",
       "      <td>NaN</td>\n",
       "      <td>NaN</td>\n",
       "      <td>NaN</td>\n",
       "      <td>NaN</td>\n",
       "      <td>NaN</td>\n",
       "      <td>NaN</td>\n",
       "    </tr>\n",
       "    <tr>\n",
       "      <th>4</th>\n",
       "      <td>NaN</td>\n",
       "      <td>NaN</td>\n",
       "      <td>NaN</td>\n",
       "      <td>170.75</td>\n",
       "      <td>NaN</td>\n",
       "      <td>NaN</td>\n",
       "      <td>NaN</td>\n",
       "      <td>NaN</td>\n",
       "      <td>NaN</td>\n",
       "      <td>NaN</td>\n",
       "      <td>NaN</td>\n",
       "      <td>NaN</td>\n",
       "      <td>NaN</td>\n",
       "      <td>NaN</td>\n",
       "      <td>NaN</td>\n",
       "    </tr>\n",
       "    <tr>\n",
       "      <th>5</th>\n",
       "      <td>NaN</td>\n",
       "      <td>NaN</td>\n",
       "      <td>NaN</td>\n",
       "      <td>172.75</td>\n",
       "      <td>NaN</td>\n",
       "      <td>NaN</td>\n",
       "      <td>NaN</td>\n",
       "      <td>NaN</td>\n",
       "      <td>NaN</td>\n",
       "      <td>NaN</td>\n",
       "      <td>NaN</td>\n",
       "      <td>NaN</td>\n",
       "      <td>NaN</td>\n",
       "      <td>NaN</td>\n",
       "      <td>NaN</td>\n",
       "    </tr>\n",
       "    <tr>\n",
       "      <th>6</th>\n",
       "      <td>NaN</td>\n",
       "      <td>NaN</td>\n",
       "      <td>NaN</td>\n",
       "      <td>177.25</td>\n",
       "      <td>NaN</td>\n",
       "      <td>NaN</td>\n",
       "      <td>NaN</td>\n",
       "      <td>NaN</td>\n",
       "      <td>NaN</td>\n",
       "      <td>NaN</td>\n",
       "      <td>NaN</td>\n",
       "      <td>NaN</td>\n",
       "      <td>NaN</td>\n",
       "      <td>NaN</td>\n",
       "      <td>NaN</td>\n",
       "    </tr>\n",
       "    <tr>\n",
       "      <th>7</th>\n",
       "      <td>NaN</td>\n",
       "      <td>NaN</td>\n",
       "      <td>NaN</td>\n",
       "      <td>179.75</td>\n",
       "      <td>NaN</td>\n",
       "      <td>NaN</td>\n",
       "      <td>NaN</td>\n",
       "      <td>NaN</td>\n",
       "      <td>NaN</td>\n",
       "      <td>NaN</td>\n",
       "      <td>NaN</td>\n",
       "      <td>NaN</td>\n",
       "      <td>NaN</td>\n",
       "      <td>NaN</td>\n",
       "      <td>NaN</td>\n",
       "    </tr>\n",
       "    <tr>\n",
       "      <th>8</th>\n",
       "      <td>NaN</td>\n",
       "      <td>NaN</td>\n",
       "      <td>NaN</td>\n",
       "      <td>184.25</td>\n",
       "      <td>NaN</td>\n",
       "      <td>NaN</td>\n",
       "      <td>NaN</td>\n",
       "      <td>NaN</td>\n",
       "      <td>NaN</td>\n",
       "      <td>NaN</td>\n",
       "      <td>NaN</td>\n",
       "      <td>NaN</td>\n",
       "      <td>NaN</td>\n",
       "      <td>NaN</td>\n",
       "      <td>NaN</td>\n",
       "    </tr>\n",
       "  </tbody>\n",
       "</table>\n",
       "</div>"
      ],
      "text/plain": [
       "   Density  BodyFat   Age  Weight  Height  Neck  Chest  Abdomen   Hip  Thigh  \\\n",
       "0    1.061     20.4  40.0  152.25    71.5  38.5   99.1     88.7  98.3   58.9   \n",
       "1      NaN      NaN   NaN  167.00     NaN   NaN  102.7     89.7   NaN    NaN   \n",
       "2      NaN      NaN   NaN  168.00     NaN   NaN    NaN    100.5   NaN    NaN   \n",
       "3      NaN      NaN   NaN  168.25     NaN   NaN    NaN      NaN   NaN    NaN   \n",
       "4      NaN      NaN   NaN  170.75     NaN   NaN    NaN      NaN   NaN    NaN   \n",
       "5      NaN      NaN   NaN  172.75     NaN   NaN    NaN      NaN   NaN    NaN   \n",
       "6      NaN      NaN   NaN  177.25     NaN   NaN    NaN      NaN   NaN    NaN   \n",
       "7      NaN      NaN   NaN  179.75     NaN   NaN    NaN      NaN   NaN    NaN   \n",
       "8      NaN      NaN   NaN  184.25     NaN   NaN    NaN      NaN   NaN    NaN   \n",
       "\n",
       "   Knee  Ankle  Biceps  Forearm  Wrist  \n",
       "0  39.0   22.0    30.5     27.3   18.8  \n",
       "1   NaN   22.5    31.6     29.6    NaN  \n",
       "2   NaN   22.6     NaN     29.8    NaN  \n",
       "3   NaN    NaN     NaN      NaN    NaN  \n",
       "4   NaN    NaN     NaN      NaN    NaN  \n",
       "5   NaN    NaN     NaN      NaN    NaN  \n",
       "6   NaN    NaN     NaN      NaN    NaN  \n",
       "7   NaN    NaN     NaN      NaN    NaN  \n",
       "8   NaN    NaN     NaN      NaN    NaN  "
      ]
     },
     "execution_count": 7,
     "metadata": {},
     "output_type": "execute_result"
    }
   ],
   "source": [
    "bodyfat.mode()"
   ]
  },
  {
   "cell_type": "markdown",
   "id": "e7a07be3",
   "metadata": {},
   "source": [
    "# Standard Deviation"
   ]
  },
  {
   "cell_type": "code",
   "execution_count": 8,
   "id": "25f4c1c6",
   "metadata": {},
   "outputs": [
    {
     "data": {
      "text/plain": [
       "12.602039722717866"
      ]
     },
     "execution_count": 8,
     "metadata": {},
     "output_type": "execute_result"
    }
   ],
   "source": [
    "bodyfat['Age'].std()"
   ]
  },
  {
   "cell_type": "code",
   "execution_count": 9,
   "id": "02d6e3db",
   "metadata": {},
   "outputs": [],
   "source": [
    "abs_median=abs(bodyfat['Weight']-bodyfat['Weight'].median())"
   ]
  },
  {
   "cell_type": "code",
   "execution_count": 10,
   "id": "d351c50f",
   "metadata": {},
   "outputs": [
    {
     "data": {
      "text/plain": [
       "0      22.25\n",
       "1       3.25\n",
       "2      22.50\n",
       "3       8.25\n",
       "4       7.75\n",
       "       ...  \n",
       "247    42.25\n",
       "248    24.50\n",
       "249    10.25\n",
       "250    14.25\n",
       "251    31.00\n",
       "Name: Weight, Length: 252, dtype: float64"
      ]
     },
     "execution_count": 10,
     "metadata": {},
     "output_type": "execute_result"
    }
   ],
   "source": [
    "abs_median"
   ]
  },
  {
   "cell_type": "code",
   "execution_count": 11,
   "id": "b04cbdbb",
   "metadata": {},
   "outputs": [],
   "source": [
    "mad=abs_median.median()*1.234"
   ]
  },
  {
   "cell_type": "code",
   "execution_count": 12,
   "id": "8df04233",
   "metadata": {},
   "outputs": [
    {
     "data": {
      "text/plain": [
       "23.90875"
      ]
     },
     "execution_count": 12,
     "metadata": {},
     "output_type": "execute_result"
    }
   ],
   "source": [
    "mad"
   ]
  },
  {
   "cell_type": "markdown",
   "id": "73c6a473",
   "metadata": {},
   "source": [
    "## skewness"
   ]
  },
  {
   "cell_type": "code",
   "execution_count": 13,
   "id": "f91dd12c",
   "metadata": {},
   "outputs": [
    {
     "data": {
      "text/plain": [
       "-5.384986543608024"
      ]
     },
     "execution_count": 13,
     "metadata": {},
     "output_type": "execute_result"
    }
   ],
   "source": [
    "bodyfat['Height'].skew()"
   ]
  },
  {
   "cell_type": "markdown",
   "id": "2a131b4d",
   "metadata": {},
   "source": [
    "## kurtosis"
   ]
  },
  {
   "cell_type": "code",
   "execution_count": 14,
   "id": "df6203ce",
   "metadata": {},
   "outputs": [
    {
     "data": {
      "text/plain": [
       "-0.3338113932133209"
      ]
     },
     "execution_count": 14,
     "metadata": {},
     "output_type": "execute_result"
    }
   ],
   "source": [
    "bodyfat['BodyFat'].kurt()"
   ]
  },
  {
   "cell_type": "markdown",
   "id": "70678713",
   "metadata": {},
   "source": [
    "# Seaborn"
   ]
  },
  {
   "cell_type": "code",
   "execution_count": 15,
   "id": "89e32e2f",
   "metadata": {},
   "outputs": [
    {
     "data": {
      "text/plain": [
       "<AxesSubplot:xlabel='Height', ylabel='Weight'>"
      ]
     },
     "execution_count": 15,
     "metadata": {},
     "output_type": "execute_result"
    },
    {
     "data": {
      "image/png": "[encoded data removed]",
      "text/plain": [
       "<Figure size 432x288 with 1 Axes>"
      ]
     },
     "metadata": {
      "needs_background": "light"
     },
     "output_type": "display_data"
    }
   ],
   "source": [
    "sns.scatterplot(data=bodyfat,x='Height',y='Weight')"
   ]
  },
  {
   "cell_type": "code",
   "execution_count": 16,
   "id": "e1938c56",
   "metadata": {},
   "outputs": [
    {
     "data": {
      "text/plain": [
       "<AxesSubplot:xlabel='BodyFat', ylabel='Age'>"
      ]
     },
     "execution_count": 16,
     "metadata": {},
     "output_type": "execute_result"
    },
    {
     "data": {
      "image/png": "[encoded data removed]",
      "text/plain": [
       "<Figure size 432x288 with 1 Axes>"
      ]
     },
     "metadata": {
      "needs_background": "light"
     },
     "output_type": "display_data"
    }
   ],
   "source": [
    "sns.scatterplot(data=bodyfat,x='BodyFat',y='Age')"
   ]
  },
  {
   "cell_type": "markdown",
   "id": "aa06b797",
   "metadata": {},
   "source": [
    "# Sklearn"
   ]
  },
  {
   "cell_type": "markdown",
   "id": "60b9d805",
   "metadata": {},
   "source": [
    "### Importing Data Splitting Libraries"
   ]
  },
  {
   "cell_type": "code",
   "execution_count": 17,
   "id": "b1f536fe",
   "metadata": {},
   "outputs": [],
   "source": [
    "from sklearn.model_selection import train_test_split"
   ]
  },
  {
   "cell_type": "code",
   "execution_count": 18,
   "id": "bda09bc6",
   "metadata": {},
   "outputs": [],
   "source": [
    "x=bodyfat.drop('BodyFat',axis=1)\n",
    "y=bodyfat['BodyFat']"
   ]
  },
  {
   "cell_type": "code",
   "execution_count": 19,
   "id": "1aa67fc8",
   "metadata": {},
   "outputs": [
    {
     "data": {
      "text/html": [
       "<div>\n",
       "<style scoped>\n",
       "    .dataframe tbody tr th:only-of-type {\n",
       "        vertical-align: middle;\n",
       "    }\n",
       "\n",
       "    .dataframe tbody tr th {\n",
       "        vertical-align: top;\n",
       "    }\n",
       "\n",
       "    .dataframe thead th {\n",
       "        text-align: right;\n",
       "    }\n",
       "</style>\n",
       "<table border=\"1\" class=\"dataframe\">\n",
       "  <thead>\n",
       "    <tr style=\"text-align: right;\">\n",
       "      <th></th>\n",
       "      <th>Density</th>\n",
       "      <th>Age</th>\n",
       "      <th>Weight</th>\n",
       "      <th>Height</th>\n",
       "      <th>Neck</th>\n",
       "      <th>Chest</th>\n",
       "      <th>Abdomen</th>\n",
       "      <th>Hip</th>\n",
       "      <th>Thigh</th>\n",
       "      <th>Knee</th>\n",
       "      <th>Ankle</th>\n",
       "      <th>Biceps</th>\n",
       "      <th>Forearm</th>\n",
       "      <th>Wrist</th>\n",
       "    </tr>\n",
       "  </thead>\n",
       "  <tbody>\n",
       "    <tr>\n",
       "      <th>0</th>\n",
       "      <td>1.0708</td>\n",
       "      <td>23</td>\n",
       "      <td>154.25</td>\n",
       "      <td>67.75</td>\n",
       "      <td>36.2</td>\n",
       "      <td>93.1</td>\n",
       "      <td>85.2</td>\n",
       "      <td>94.5</td>\n",
       "      <td>59.0</td>\n",
       "      <td>37.3</td>\n",
       "      <td>21.9</td>\n",
       "      <td>32.0</td>\n",
       "      <td>27.4</td>\n",
       "      <td>17.1</td>\n",
       "    </tr>\n",
       "    <tr>\n",
       "      <th>1</th>\n",
       "      <td>1.0853</td>\n",
       "      <td>22</td>\n",
       "      <td>173.25</td>\n",
       "      <td>72.25</td>\n",
       "      <td>38.5</td>\n",
       "      <td>93.6</td>\n",
       "      <td>83.0</td>\n",
       "      <td>98.7</td>\n",
       "      <td>58.7</td>\n",
       "      <td>37.3</td>\n",
       "      <td>23.4</td>\n",
       "      <td>30.5</td>\n",
       "      <td>28.9</td>\n",
       "      <td>18.2</td>\n",
       "    </tr>\n",
       "    <tr>\n",
       "      <th>2</th>\n",
       "      <td>1.0414</td>\n",
       "      <td>22</td>\n",
       "      <td>154.00</td>\n",
       "      <td>66.25</td>\n",
       "      <td>34.0</td>\n",
       "      <td>95.8</td>\n",
       "      <td>87.9</td>\n",
       "      <td>99.2</td>\n",
       "      <td>59.6</td>\n",
       "      <td>38.9</td>\n",
       "      <td>24.0</td>\n",
       "      <td>28.8</td>\n",
       "      <td>25.2</td>\n",
       "      <td>16.6</td>\n",
       "    </tr>\n",
       "    <tr>\n",
       "      <th>3</th>\n",
       "      <td>1.0751</td>\n",
       "      <td>26</td>\n",
       "      <td>184.75</td>\n",
       "      <td>72.25</td>\n",
       "      <td>37.4</td>\n",
       "      <td>101.8</td>\n",
       "      <td>86.4</td>\n",
       "      <td>101.2</td>\n",
       "      <td>60.1</td>\n",
       "      <td>37.3</td>\n",
       "      <td>22.8</td>\n",
       "      <td>32.4</td>\n",
       "      <td>29.4</td>\n",
       "      <td>18.2</td>\n",
       "    </tr>\n",
       "    <tr>\n",
       "      <th>4</th>\n",
       "      <td>1.0340</td>\n",
       "      <td>24</td>\n",
       "      <td>184.25</td>\n",
       "      <td>71.25</td>\n",
       "      <td>34.4</td>\n",
       "      <td>97.3</td>\n",
       "      <td>100.0</td>\n",
       "      <td>101.9</td>\n",
       "      <td>63.2</td>\n",
       "      <td>42.2</td>\n",
       "      <td>24.0</td>\n",
       "      <td>32.2</td>\n",
       "      <td>27.7</td>\n",
       "      <td>17.7</td>\n",
       "    </tr>\n",
       "    <tr>\n",
       "      <th>...</th>\n",
       "      <td>...</td>\n",
       "      <td>...</td>\n",
       "      <td>...</td>\n",
       "      <td>...</td>\n",
       "      <td>...</td>\n",
       "      <td>...</td>\n",
       "      <td>...</td>\n",
       "      <td>...</td>\n",
       "      <td>...</td>\n",
       "      <td>...</td>\n",
       "      <td>...</td>\n",
       "      <td>...</td>\n",
       "      <td>...</td>\n",
       "      <td>...</td>\n",
       "    </tr>\n",
       "    <tr>\n",
       "      <th>247</th>\n",
       "      <td>1.0736</td>\n",
       "      <td>70</td>\n",
       "      <td>134.25</td>\n",
       "      <td>67.00</td>\n",
       "      <td>34.9</td>\n",
       "      <td>89.2</td>\n",
       "      <td>83.6</td>\n",
       "      <td>88.8</td>\n",
       "      <td>49.6</td>\n",
       "      <td>34.8</td>\n",
       "      <td>21.5</td>\n",
       "      <td>25.6</td>\n",
       "      <td>25.7</td>\n",
       "      <td>18.5</td>\n",
       "    </tr>\n",
       "    <tr>\n",
       "      <th>248</th>\n",
       "      <td>1.0236</td>\n",
       "      <td>72</td>\n",
       "      <td>201.00</td>\n",
       "      <td>69.75</td>\n",
       "      <td>40.9</td>\n",
       "      <td>108.5</td>\n",
       "      <td>105.0</td>\n",
       "      <td>104.5</td>\n",
       "      <td>59.6</td>\n",
       "      <td>40.8</td>\n",
       "      <td>23.2</td>\n",
       "      <td>35.2</td>\n",
       "      <td>28.6</td>\n",
       "      <td>20.1</td>\n",
       "    </tr>\n",
       "    <tr>\n",
       "      <th>249</th>\n",
       "      <td>1.0328</td>\n",
       "      <td>72</td>\n",
       "      <td>186.75</td>\n",
       "      <td>66.00</td>\n",
       "      <td>38.9</td>\n",
       "      <td>111.1</td>\n",
       "      <td>111.5</td>\n",
       "      <td>101.7</td>\n",
       "      <td>60.3</td>\n",
       "      <td>37.3</td>\n",
       "      <td>21.5</td>\n",
       "      <td>31.3</td>\n",
       "      <td>27.2</td>\n",
       "      <td>18.0</td>\n",
       "    </tr>\n",
       "    <tr>\n",
       "      <th>250</th>\n",
       "      <td>1.0399</td>\n",
       "      <td>72</td>\n",
       "      <td>190.75</td>\n",
       "      <td>70.50</td>\n",
       "      <td>38.9</td>\n",
       "      <td>108.3</td>\n",
       "      <td>101.3</td>\n",
       "      <td>97.8</td>\n",
       "      <td>56.0</td>\n",
       "      <td>41.6</td>\n",
       "      <td>22.7</td>\n",
       "      <td>30.5</td>\n",
       "      <td>29.4</td>\n",
       "      <td>19.8</td>\n",
       "    </tr>\n",
       "    <tr>\n",
       "      <th>251</th>\n",
       "      <td>1.0271</td>\n",
       "      <td>74</td>\n",
       "      <td>207.50</td>\n",
       "      <td>70.00</td>\n",
       "      <td>40.8</td>\n",
       "      <td>112.4</td>\n",
       "      <td>108.5</td>\n",
       "      <td>107.1</td>\n",
       "      <td>59.3</td>\n",
       "      <td>42.2</td>\n",
       "      <td>24.6</td>\n",
       "      <td>33.7</td>\n",
       "      <td>30.0</td>\n",
       "      <td>20.9</td>\n",
       "    </tr>\n",
       "  </tbody>\n",
       "</table>\n",
       "<p>252 rows × 14 columns</p>\n",
       "</div>"
      ],
      "text/plain": [
       "     Density  Age  Weight  Height  Neck  Chest  Abdomen    Hip  Thigh  Knee  \\\n",
       "0     1.0708   23  154.25   67.75  36.2   93.1     85.2   94.5   59.0  37.3   \n",
       "1     1.0853   22  173.25   72.25  38.5   93.6     83.0   98.7   58.7  37.3   \n",
       "2     1.0414   22  154.00   66.25  34.0   95.8     87.9   99.2   59.6  38.9   \n",
       "3     1.0751   26  184.75   72.25  37.4  101.8     86.4  101.2   60.1  37.3   \n",
       "4     1.0340   24  184.25   71.25  34.4   97.3    100.0  101.9   63.2  42.2   \n",
       "..       ...  ...     ...     ...   ...    ...      ...    ...    ...   ...   \n",
       "247   1.0736   70  134.25   67.00  34.9   89.2     83.6   88.8   49.6  34.8   \n",
       "248   1.0236   72  201.00   69.75  40.9  108.5    105.0  104.5   59.6  40.8   \n",
       "249   1.0328   72  186.75   66.00  38.9  111.1    111.5  101.7   60.3  37.3   \n",
       "250   1.0399   72  190.75   70.50  38.9  108.3    101.3   97.8   56.0  41.6   \n",
       "251   1.0271   74  207.50   70.00  40.8  112.4    108.5  107.1   59.3  42.2   \n",
       "\n",
       "     Ankle  Biceps  Forearm  Wrist  \n",
       "0     21.9    32.0     27.4   17.1  \n",
       "1     23.4    30.5     28.9   18.2  \n",
       "2     24.0    28.8     25.2   16.6  \n",
       "3     22.8    32.4     29.4   18.2  \n",
       "4     24.0    32.2     27.7   17.7  \n",
       "..     ...     ...      ...    ...  \n",
       "247   21.5    25.6     25.7   18.5  \n",
       "248   23.2    35.2     28.6   20.1  \n",
       "249   21.5    31.3     27.2   18.0  \n",
       "250   22.7    30.5     29.4   19.8  \n",
       "251   24.6    33.7     30.0   20.9  \n",
       "\n",
       "[252 rows x 14 columns]"
      ]
     },
     "execution_count": 19,
     "metadata": {},
     "output_type": "execute_result"
    }
   ],
   "source": [
    "x"
   ]
  },
  {
   "cell_type": "code",
   "execution_count": 20,
   "id": "00460231",
   "metadata": {},
   "outputs": [
    {
     "data": {
      "text/plain": [
       "0      12.3\n",
       "1       6.1\n",
       "2      25.3\n",
       "3      10.4\n",
       "4      28.7\n",
       "       ... \n",
       "247    11.0\n",
       "248    33.6\n",
       "249    29.3\n",
       "250    26.0\n",
       "251    31.9\n",
       "Name: BodyFat, Length: 252, dtype: float64"
      ]
     },
     "execution_count": 20,
     "metadata": {},
     "output_type": "execute_result"
    }
   ],
   "source": [
    "y"
   ]
  },
  {
   "cell_type": "code",
   "execution_count": 21,
   "id": "5a7cd126",
   "metadata": {},
   "outputs": [],
   "source": [
    "x_train,x_test,y_train,y_test=train_test_split(x,y,test_size=0.1,random_state=50)"
   ]
  },
  {
   "cell_type": "code",
   "execution_count": 22,
   "id": "04cd0ddb",
   "metadata": {},
   "outputs": [
    {
     "data": {
      "text/html": [
       "<div>\n",
       "<style scoped>\n",
       "    .dataframe tbody tr th:only-of-type {\n",
       "        vertical-align: middle;\n",
       "    }\n",
       "\n",
       "    .dataframe tbody tr th {\n",
       "        vertical-align: top;\n",
       "    }\n",
       "\n",
       "    .dataframe thead th {\n",
       "        text-align: right;\n",
       "    }\n",
       "</style>\n",
       "<table border=\"1\" class=\"dataframe\">\n",
       "  <thead>\n",
       "    <tr style=\"text-align: right;\">\n",
       "      <th></th>\n",
       "      <th>Density</th>\n",
       "      <th>Age</th>\n",
       "      <th>Weight</th>\n",
       "      <th>Height</th>\n",
       "      <th>Neck</th>\n",
       "      <th>Chest</th>\n",
       "      <th>Abdomen</th>\n",
       "      <th>Hip</th>\n",
       "      <th>Thigh</th>\n",
       "      <th>Knee</th>\n",
       "      <th>Ankle</th>\n",
       "      <th>Biceps</th>\n",
       "      <th>Forearm</th>\n",
       "      <th>Wrist</th>\n",
       "    </tr>\n",
       "  </thead>\n",
       "  <tbody>\n",
       "    <tr>\n",
       "      <th>99</th>\n",
       "      <td>1.0484</td>\n",
       "      <td>47</td>\n",
       "      <td>197.00</td>\n",
       "      <td>72.00</td>\n",
       "      <td>40.0</td>\n",
       "      <td>107.5</td>\n",
       "      <td>94.0</td>\n",
       "      <td>103.7</td>\n",
       "      <td>62.7</td>\n",
       "      <td>39.0</td>\n",
       "      <td>22.3</td>\n",
       "      <td>35.3</td>\n",
       "      <td>30.9</td>\n",
       "      <td>18.3</td>\n",
       "    </tr>\n",
       "    <tr>\n",
       "      <th>233</th>\n",
       "      <td>1.0384</td>\n",
       "      <td>58</td>\n",
       "      <td>161.75</td>\n",
       "      <td>67.25</td>\n",
       "      <td>35.1</td>\n",
       "      <td>94.9</td>\n",
       "      <td>94.9</td>\n",
       "      <td>100.2</td>\n",
       "      <td>56.8</td>\n",
       "      <td>35.9</td>\n",
       "      <td>21.0</td>\n",
       "      <td>27.8</td>\n",
       "      <td>26.1</td>\n",
       "      <td>17.6</td>\n",
       "    </tr>\n",
       "    <tr>\n",
       "      <th>208</th>\n",
       "      <td>1.0771</td>\n",
       "      <td>47</td>\n",
       "      <td>160.50</td>\n",
       "      <td>70.25</td>\n",
       "      <td>36.0</td>\n",
       "      <td>99.8</td>\n",
       "      <td>83.9</td>\n",
       "      <td>91.8</td>\n",
       "      <td>53.0</td>\n",
       "      <td>36.2</td>\n",
       "      <td>22.5</td>\n",
       "      <td>31.4</td>\n",
       "      <td>27.5</td>\n",
       "      <td>17.7</td>\n",
       "    </tr>\n",
       "    <tr>\n",
       "      <th>15</th>\n",
       "      <td>1.0512</td>\n",
       "      <td>35</td>\n",
       "      <td>162.75</td>\n",
       "      <td>66.00</td>\n",
       "      <td>36.4</td>\n",
       "      <td>99.1</td>\n",
       "      <td>92.8</td>\n",
       "      <td>99.2</td>\n",
       "      <td>63.1</td>\n",
       "      <td>38.7</td>\n",
       "      <td>21.7</td>\n",
       "      <td>31.1</td>\n",
       "      <td>26.4</td>\n",
       "      <td>16.9</td>\n",
       "    </tr>\n",
       "    <tr>\n",
       "      <th>1</th>\n",
       "      <td>1.0853</td>\n",
       "      <td>22</td>\n",
       "      <td>173.25</td>\n",
       "      <td>72.25</td>\n",
       "      <td>38.5</td>\n",
       "      <td>93.6</td>\n",
       "      <td>83.0</td>\n",
       "      <td>98.7</td>\n",
       "      <td>58.7</td>\n",
       "      <td>37.3</td>\n",
       "      <td>23.4</td>\n",
       "      <td>30.5</td>\n",
       "      <td>28.9</td>\n",
       "      <td>18.2</td>\n",
       "    </tr>\n",
       "    <tr>\n",
       "      <th>...</th>\n",
       "      <td>...</td>\n",
       "      <td>...</td>\n",
       "      <td>...</td>\n",
       "      <td>...</td>\n",
       "      <td>...</td>\n",
       "      <td>...</td>\n",
       "      <td>...</td>\n",
       "      <td>...</td>\n",
       "      <td>...</td>\n",
       "      <td>...</td>\n",
       "      <td>...</td>\n",
       "      <td>...</td>\n",
       "      <td>...</td>\n",
       "      <td>...</td>\n",
       "    </tr>\n",
       "    <tr>\n",
       "      <th>33</th>\n",
       "      <td>1.0502</td>\n",
       "      <td>41</td>\n",
       "      <td>218.50</td>\n",
       "      <td>71.00</td>\n",
       "      <td>39.8</td>\n",
       "      <td>111.7</td>\n",
       "      <td>100.5</td>\n",
       "      <td>108.3</td>\n",
       "      <td>67.1</td>\n",
       "      <td>44.2</td>\n",
       "      <td>25.2</td>\n",
       "      <td>37.5</td>\n",
       "      <td>31.5</td>\n",
       "      <td>18.7</td>\n",
       "    </tr>\n",
       "    <tr>\n",
       "      <th>109</th>\n",
       "      <td>1.0500</td>\n",
       "      <td>40</td>\n",
       "      <td>168.50</td>\n",
       "      <td>69.25</td>\n",
       "      <td>34.2</td>\n",
       "      <td>97.8</td>\n",
       "      <td>92.3</td>\n",
       "      <td>100.6</td>\n",
       "      <td>57.5</td>\n",
       "      <td>36.8</td>\n",
       "      <td>22.8</td>\n",
       "      <td>32.1</td>\n",
       "      <td>26.0</td>\n",
       "      <td>17.3</td>\n",
       "    </tr>\n",
       "    <tr>\n",
       "      <th>139</th>\n",
       "      <td>1.0522</td>\n",
       "      <td>49</td>\n",
       "      <td>212.75</td>\n",
       "      <td>75.00</td>\n",
       "      <td>40.8</td>\n",
       "      <td>104.7</td>\n",
       "      <td>106.6</td>\n",
       "      <td>107.7</td>\n",
       "      <td>66.5</td>\n",
       "      <td>42.5</td>\n",
       "      <td>24.5</td>\n",
       "      <td>35.5</td>\n",
       "      <td>29.8</td>\n",
       "      <td>18.7</td>\n",
       "    </tr>\n",
       "    <tr>\n",
       "      <th>224</th>\n",
       "      <td>1.0740</td>\n",
       "      <td>55</td>\n",
       "      <td>179.75</td>\n",
       "      <td>68.75</td>\n",
       "      <td>41.1</td>\n",
       "      <td>106.9</td>\n",
       "      <td>95.3</td>\n",
       "      <td>98.2</td>\n",
       "      <td>57.4</td>\n",
       "      <td>37.1</td>\n",
       "      <td>21.8</td>\n",
       "      <td>34.1</td>\n",
       "      <td>31.1</td>\n",
       "      <td>19.2</td>\n",
       "    </tr>\n",
       "    <tr>\n",
       "      <th>176</th>\n",
       "      <td>1.0689</td>\n",
       "      <td>37</td>\n",
       "      <td>151.00</td>\n",
       "      <td>67.00</td>\n",
       "      <td>35.3</td>\n",
       "      <td>92.6</td>\n",
       "      <td>83.2</td>\n",
       "      <td>96.4</td>\n",
       "      <td>60.0</td>\n",
       "      <td>38.1</td>\n",
       "      <td>22.0</td>\n",
       "      <td>31.5</td>\n",
       "      <td>26.6</td>\n",
       "      <td>16.7</td>\n",
       "    </tr>\n",
       "  </tbody>\n",
       "</table>\n",
       "<p>226 rows × 14 columns</p>\n",
       "</div>"
      ],
      "text/plain": [
       "     Density  Age  Weight  Height  Neck  Chest  Abdomen    Hip  Thigh  Knee  \\\n",
       "99    1.0484   47  197.00   72.00  40.0  107.5     94.0  103.7   62.7  39.0   \n",
       "233   1.0384   58  161.75   67.25  35.1   94.9     94.9  100.2   56.8  35.9   \n",
       "208   1.0771   47  160.50   70.25  36.0   99.8     83.9   91.8   53.0  36.2   \n",
       "15    1.0512   35  162.75   66.00  36.4   99.1     92.8   99.2   63.1  38.7   \n",
       "1     1.0853   22  173.25   72.25  38.5   93.6     83.0   98.7   58.7  37.3   \n",
       "..       ...  ...     ...     ...   ...    ...      ...    ...    ...   ...   \n",
       "33    1.0502   41  218.50   71.00  39.8  111.7    100.5  108.3   67.1  44.2   \n",
       "109   1.0500   40  168.50   69.25  34.2   97.8     92.3  100.6   57.5  36.8   \n",
       "139   1.0522   49  212.75   75.00  40.8  104.7    106.6  107.7   66.5  42.5   \n",
       "224   1.0740   55  179.75   68.75  41.1  106.9     95.3   98.2   57.4  37.1   \n",
       "176   1.0689   37  151.00   67.00  35.3   92.6     83.2   96.4   60.0  38.1   \n",
       "\n",
       "     Ankle  Biceps  Forearm  Wrist  \n",
       "99    22.3    35.3     30.9   18.3  \n",
       "233   21.0    27.8     26.1   17.6  \n",
       "208   22.5    31.4     27.5   17.7  \n",
       "15    21.7    31.1     26.4   16.9  \n",
       "1     23.4    30.5     28.9   18.2  \n",
       "..     ...     ...      ...    ...  \n",
       "33    25.2    37.5     31.5   18.7  \n",
       "109   22.8    32.1     26.0   17.3  \n",
       "139   24.5    35.5     29.8   18.7  \n",
       "224   21.8    34.1     31.1   19.2  \n",
       "176   22.0    31.5     26.6   16.7  \n",
       "\n",
       "[226 rows x 14 columns]"
      ]
     },
     "execution_count": 22,
     "metadata": {},
     "output_type": "execute_result"
    }
   ],
   "source": [
    "x_train"
   ]
  },
  {
   "cell_type": "code",
   "execution_count": 23,
   "id": "e7eb1be9",
   "metadata": {},
   "outputs": [
    {
     "data": {
      "text/html": [
       "<div>\n",
       "<style scoped>\n",
       "    .dataframe tbody tr th:only-of-type {\n",
       "        vertical-align: middle;\n",
       "    }\n",
       "\n",
       "    .dataframe tbody tr th {\n",
       "        vertical-align: top;\n",
       "    }\n",
       "\n",
       "    .dataframe thead th {\n",
       "        text-align: right;\n",
       "    }\n",
       "</style>\n",
       "<table border=\"1\" class=\"dataframe\">\n",
       "  <thead>\n",
       "    <tr style=\"text-align: right;\">\n",
       "      <th></th>\n",
       "      <th>Density</th>\n",
       "      <th>Age</th>\n",
       "      <th>Weight</th>\n",
       "      <th>Height</th>\n",
       "      <th>Neck</th>\n",
       "      <th>Chest</th>\n",
       "      <th>Abdomen</th>\n",
       "      <th>Hip</th>\n",
       "      <th>Thigh</th>\n",
       "      <th>Knee</th>\n",
       "      <th>Ankle</th>\n",
       "      <th>Biceps</th>\n",
       "      <th>Forearm</th>\n",
       "      <th>Wrist</th>\n",
       "    </tr>\n",
       "  </thead>\n",
       "  <tbody>\n",
       "    <tr>\n",
       "      <th>20</th>\n",
       "      <td>1.0551</td>\n",
       "      <td>28</td>\n",
       "      <td>179.00</td>\n",
       "      <td>68.00</td>\n",
       "      <td>39.1</td>\n",
       "      <td>103.3</td>\n",
       "      <td>95.9</td>\n",
       "      <td>104.9</td>\n",
       "      <td>63.5</td>\n",
       "      <td>38.0</td>\n",
       "      <td>22.1</td>\n",
       "      <td>32.5</td>\n",
       "      <td>30.3</td>\n",
       "      <td>18.4</td>\n",
       "    </tr>\n",
       "    <tr>\n",
       "      <th>72</th>\n",
       "      <td>1.0796</td>\n",
       "      <td>56</td>\n",
       "      <td>160.75</td>\n",
       "      <td>73.75</td>\n",
       "      <td>36.4</td>\n",
       "      <td>93.6</td>\n",
       "      <td>82.9</td>\n",
       "      <td>96.3</td>\n",
       "      <td>52.9</td>\n",
       "      <td>37.5</td>\n",
       "      <td>23.1</td>\n",
       "      <td>29.7</td>\n",
       "      <td>27.3</td>\n",
       "      <td>18.2</td>\n",
       "    </tr>\n",
       "    <tr>\n",
       "      <th>194</th>\n",
       "      <td>1.0470</td>\n",
       "      <td>42</td>\n",
       "      <td>162.75</td>\n",
       "      <td>72.75</td>\n",
       "      <td>35.4</td>\n",
       "      <td>92.2</td>\n",
       "      <td>85.6</td>\n",
       "      <td>96.5</td>\n",
       "      <td>60.2</td>\n",
       "      <td>38.9</td>\n",
       "      <td>22.4</td>\n",
       "      <td>31.7</td>\n",
       "      <td>27.1</td>\n",
       "      <td>17.1</td>\n",
       "    </tr>\n",
       "    <tr>\n",
       "      <th>83</th>\n",
       "      <td>1.0377</td>\n",
       "      <td>70</td>\n",
       "      <td>170.75</td>\n",
       "      <td>70.00</td>\n",
       "      <td>38.7</td>\n",
       "      <td>101.8</td>\n",
       "      <td>94.9</td>\n",
       "      <td>95.0</td>\n",
       "      <td>56.0</td>\n",
       "      <td>36.5</td>\n",
       "      <td>24.1</td>\n",
       "      <td>31.2</td>\n",
       "      <td>27.3</td>\n",
       "      <td>19.2</td>\n",
       "    </tr>\n",
       "    <tr>\n",
       "      <th>187</th>\n",
       "      <td>1.0524</td>\n",
       "      <td>41</td>\n",
       "      <td>210.50</td>\n",
       "      <td>72.00</td>\n",
       "      <td>38.5</td>\n",
       "      <td>107.4</td>\n",
       "      <td>98.9</td>\n",
       "      <td>104.1</td>\n",
       "      <td>63.5</td>\n",
       "      <td>39.8</td>\n",
       "      <td>23.5</td>\n",
       "      <td>36.4</td>\n",
       "      <td>30.4</td>\n",
       "      <td>19.1</td>\n",
       "    </tr>\n",
       "    <tr>\n",
       "      <th>81</th>\n",
       "      <td>1.0382</td>\n",
       "      <td>64</td>\n",
       "      <td>150.25</td>\n",
       "      <td>67.25</td>\n",
       "      <td>38.1</td>\n",
       "      <td>97.1</td>\n",
       "      <td>89.0</td>\n",
       "      <td>96.9</td>\n",
       "      <td>54.8</td>\n",
       "      <td>38.0</td>\n",
       "      <td>22.0</td>\n",
       "      <td>29.9</td>\n",
       "      <td>25.2</td>\n",
       "      <td>17.7</td>\n",
       "    </tr>\n",
       "    <tr>\n",
       "      <th>16</th>\n",
       "      <td>1.0333</td>\n",
       "      <td>34</td>\n",
       "      <td>195.75</td>\n",
       "      <td>71.00</td>\n",
       "      <td>38.9</td>\n",
       "      <td>101.9</td>\n",
       "      <td>96.4</td>\n",
       "      <td>105.2</td>\n",
       "      <td>64.8</td>\n",
       "      <td>40.8</td>\n",
       "      <td>23.1</td>\n",
       "      <td>36.2</td>\n",
       "      <td>30.8</td>\n",
       "      <td>17.3</td>\n",
       "    </tr>\n",
       "    <tr>\n",
       "      <th>250</th>\n",
       "      <td>1.0399</td>\n",
       "      <td>72</td>\n",
       "      <td>190.75</td>\n",
       "      <td>70.50</td>\n",
       "      <td>38.9</td>\n",
       "      <td>108.3</td>\n",
       "      <td>101.3</td>\n",
       "      <td>97.8</td>\n",
       "      <td>56.0</td>\n",
       "      <td>41.6</td>\n",
       "      <td>22.7</td>\n",
       "      <td>30.5</td>\n",
       "      <td>29.4</td>\n",
       "      <td>19.8</td>\n",
       "    </tr>\n",
       "    <tr>\n",
       "      <th>137</th>\n",
       "      <td>1.0325</td>\n",
       "      <td>43</td>\n",
       "      <td>187.75</td>\n",
       "      <td>74.00</td>\n",
       "      <td>37.7</td>\n",
       "      <td>97.8</td>\n",
       "      <td>98.6</td>\n",
       "      <td>100.6</td>\n",
       "      <td>63.6</td>\n",
       "      <td>39.2</td>\n",
       "      <td>23.8</td>\n",
       "      <td>34.3</td>\n",
       "      <td>28.4</td>\n",
       "      <td>17.7</td>\n",
       "    </tr>\n",
       "    <tr>\n",
       "      <th>178</th>\n",
       "      <td>1.0477</td>\n",
       "      <td>38</td>\n",
       "      <td>187.25</td>\n",
       "      <td>69.25</td>\n",
       "      <td>38.0</td>\n",
       "      <td>102.7</td>\n",
       "      <td>92.7</td>\n",
       "      <td>101.9</td>\n",
       "      <td>64.7</td>\n",
       "      <td>39.5</td>\n",
       "      <td>24.7</td>\n",
       "      <td>34.8</td>\n",
       "      <td>30.3</td>\n",
       "      <td>18.1</td>\n",
       "    </tr>\n",
       "    <tr>\n",
       "      <th>248</th>\n",
       "      <td>1.0236</td>\n",
       "      <td>72</td>\n",
       "      <td>201.00</td>\n",
       "      <td>69.75</td>\n",
       "      <td>40.9</td>\n",
       "      <td>108.5</td>\n",
       "      <td>105.0</td>\n",
       "      <td>104.5</td>\n",
       "      <td>59.6</td>\n",
       "      <td>40.8</td>\n",
       "      <td>23.2</td>\n",
       "      <td>35.2</td>\n",
       "      <td>28.6</td>\n",
       "      <td>20.1</td>\n",
       "    </tr>\n",
       "    <tr>\n",
       "      <th>199</th>\n",
       "      <td>1.0462</td>\n",
       "      <td>43</td>\n",
       "      <td>170.75</td>\n",
       "      <td>67.50</td>\n",
       "      <td>37.4</td>\n",
       "      <td>103.7</td>\n",
       "      <td>89.7</td>\n",
       "      <td>94.2</td>\n",
       "      <td>58.5</td>\n",
       "      <td>39.0</td>\n",
       "      <td>24.1</td>\n",
       "      <td>33.8</td>\n",
       "      <td>28.8</td>\n",
       "      <td>18.8</td>\n",
       "    </tr>\n",
       "    <tr>\n",
       "      <th>100</th>\n",
       "      <td>1.0506</td>\n",
       "      <td>49</td>\n",
       "      <td>198.50</td>\n",
       "      <td>73.50</td>\n",
       "      <td>40.1</td>\n",
       "      <td>106.5</td>\n",
       "      <td>95.0</td>\n",
       "      <td>101.7</td>\n",
       "      <td>59.0</td>\n",
       "      <td>39.4</td>\n",
       "      <td>22.3</td>\n",
       "      <td>32.2</td>\n",
       "      <td>31.0</td>\n",
       "      <td>18.6</td>\n",
       "    </tr>\n",
       "    <tr>\n",
       "      <th>38</th>\n",
       "      <td>1.0202</td>\n",
       "      <td>46</td>\n",
       "      <td>363.15</td>\n",
       "      <td>72.25</td>\n",
       "      <td>51.2</td>\n",
       "      <td>136.2</td>\n",
       "      <td>148.1</td>\n",
       "      <td>147.7</td>\n",
       "      <td>87.3</td>\n",
       "      <td>49.1</td>\n",
       "      <td>29.6</td>\n",
       "      <td>45.0</td>\n",
       "      <td>29.0</td>\n",
       "      <td>21.4</td>\n",
       "    </tr>\n",
       "    <tr>\n",
       "      <th>127</th>\n",
       "      <td>1.0590</td>\n",
       "      <td>43</td>\n",
       "      <td>152.25</td>\n",
       "      <td>67.75</td>\n",
       "      <td>37.5</td>\n",
       "      <td>95.9</td>\n",
       "      <td>78.0</td>\n",
       "      <td>93.2</td>\n",
       "      <td>53.5</td>\n",
       "      <td>35.8</td>\n",
       "      <td>20.8</td>\n",
       "      <td>33.9</td>\n",
       "      <td>28.2</td>\n",
       "      <td>17.4</td>\n",
       "    </tr>\n",
       "    <tr>\n",
       "      <th>144</th>\n",
       "      <td>1.0754</td>\n",
       "      <td>23</td>\n",
       "      <td>188.15</td>\n",
       "      <td>77.50</td>\n",
       "      <td>38.0</td>\n",
       "      <td>96.6</td>\n",
       "      <td>85.3</td>\n",
       "      <td>102.5</td>\n",
       "      <td>59.1</td>\n",
       "      <td>37.6</td>\n",
       "      <td>23.2</td>\n",
       "      <td>31.8</td>\n",
       "      <td>29.7</td>\n",
       "      <td>18.3</td>\n",
       "    </tr>\n",
       "    <tr>\n",
       "      <th>98</th>\n",
       "      <td>1.0582</td>\n",
       "      <td>46</td>\n",
       "      <td>156.50</td>\n",
       "      <td>68.25</td>\n",
       "      <td>35.9</td>\n",
       "      <td>95.1</td>\n",
       "      <td>88.2</td>\n",
       "      <td>92.8</td>\n",
       "      <td>54.7</td>\n",
       "      <td>37.3</td>\n",
       "      <td>21.9</td>\n",
       "      <td>31.6</td>\n",
       "      <td>27.5</td>\n",
       "      <td>18.2</td>\n",
       "    </tr>\n",
       "    <tr>\n",
       "      <th>24</th>\n",
       "      <td>1.0668</td>\n",
       "      <td>28</td>\n",
       "      <td>151.25</td>\n",
       "      <td>67.75</td>\n",
       "      <td>34.5</td>\n",
       "      <td>90.2</td>\n",
       "      <td>76.3</td>\n",
       "      <td>95.8</td>\n",
       "      <td>58.4</td>\n",
       "      <td>35.5</td>\n",
       "      <td>22.9</td>\n",
       "      <td>31.1</td>\n",
       "      <td>28.0</td>\n",
       "      <td>17.6</td>\n",
       "    </tr>\n",
       "    <tr>\n",
       "      <th>39</th>\n",
       "      <td>1.0258</td>\n",
       "      <td>50</td>\n",
       "      <td>203.00</td>\n",
       "      <td>67.00</td>\n",
       "      <td>40.2</td>\n",
       "      <td>114.8</td>\n",
       "      <td>108.1</td>\n",
       "      <td>102.5</td>\n",
       "      <td>61.3</td>\n",
       "      <td>41.1</td>\n",
       "      <td>24.7</td>\n",
       "      <td>34.1</td>\n",
       "      <td>31.0</td>\n",
       "      <td>18.3</td>\n",
       "    </tr>\n",
       "    <tr>\n",
       "      <th>170</th>\n",
       "      <td>1.0926</td>\n",
       "      <td>35</td>\n",
       "      <td>152.25</td>\n",
       "      <td>67.75</td>\n",
       "      <td>37.0</td>\n",
       "      <td>92.2</td>\n",
       "      <td>81.9</td>\n",
       "      <td>92.8</td>\n",
       "      <td>54.7</td>\n",
       "      <td>36.2</td>\n",
       "      <td>22.1</td>\n",
       "      <td>30.4</td>\n",
       "      <td>27.4</td>\n",
       "      <td>17.7</td>\n",
       "    </tr>\n",
       "    <tr>\n",
       "      <th>82</th>\n",
       "      <td>1.0568</td>\n",
       "      <td>64</td>\n",
       "      <td>190.25</td>\n",
       "      <td>72.75</td>\n",
       "      <td>39.3</td>\n",
       "      <td>103.1</td>\n",
       "      <td>97.8</td>\n",
       "      <td>99.6</td>\n",
       "      <td>58.9</td>\n",
       "      <td>39.0</td>\n",
       "      <td>23.0</td>\n",
       "      <td>34.3</td>\n",
       "      <td>29.6</td>\n",
       "      <td>19.0</td>\n",
       "    </tr>\n",
       "    <tr>\n",
       "      <th>123</th>\n",
       "      <td>1.0623</td>\n",
       "      <td>47</td>\n",
       "      <td>151.50</td>\n",
       "      <td>66.75</td>\n",
       "      <td>36.9</td>\n",
       "      <td>94.0</td>\n",
       "      <td>86.1</td>\n",
       "      <td>95.2</td>\n",
       "      <td>58.1</td>\n",
       "      <td>36.5</td>\n",
       "      <td>22.1</td>\n",
       "      <td>30.6</td>\n",
       "      <td>27.5</td>\n",
       "      <td>17.6</td>\n",
       "    </tr>\n",
       "    <tr>\n",
       "      <th>63</th>\n",
       "      <td>1.0403</td>\n",
       "      <td>61</td>\n",
       "      <td>178.00</td>\n",
       "      <td>67.00</td>\n",
       "      <td>37.4</td>\n",
       "      <td>105.3</td>\n",
       "      <td>99.7</td>\n",
       "      <td>99.7</td>\n",
       "      <td>60.8</td>\n",
       "      <td>40.1</td>\n",
       "      <td>22.7</td>\n",
       "      <td>33.6</td>\n",
       "      <td>29.0</td>\n",
       "      <td>18.8</td>\n",
       "    </tr>\n",
       "    <tr>\n",
       "      <th>207</th>\n",
       "      <td>1.0254</td>\n",
       "      <td>47</td>\n",
       "      <td>195.00</td>\n",
       "      <td>72.50</td>\n",
       "      <td>40.2</td>\n",
       "      <td>102.7</td>\n",
       "      <td>101.3</td>\n",
       "      <td>101.7</td>\n",
       "      <td>60.7</td>\n",
       "      <td>39.4</td>\n",
       "      <td>23.3</td>\n",
       "      <td>36.7</td>\n",
       "      <td>31.6</td>\n",
       "      <td>18.4</td>\n",
       "    </tr>\n",
       "    <tr>\n",
       "      <th>223</th>\n",
       "      <td>1.0874</td>\n",
       "      <td>55</td>\n",
       "      <td>142.25</td>\n",
       "      <td>67.25</td>\n",
       "      <td>35.2</td>\n",
       "      <td>92.7</td>\n",
       "      <td>82.8</td>\n",
       "      <td>91.9</td>\n",
       "      <td>54.4</td>\n",
       "      <td>35.2</td>\n",
       "      <td>22.5</td>\n",
       "      <td>29.4</td>\n",
       "      <td>26.8</td>\n",
       "      <td>17.0</td>\n",
       "    </tr>\n",
       "    <tr>\n",
       "      <th>246</th>\n",
       "      <td>1.0308</td>\n",
       "      <td>69</td>\n",
       "      <td>215.50</td>\n",
       "      <td>70.50</td>\n",
       "      <td>40.8</td>\n",
       "      <td>113.7</td>\n",
       "      <td>107.6</td>\n",
       "      <td>110.0</td>\n",
       "      <td>63.3</td>\n",
       "      <td>44.0</td>\n",
       "      <td>22.6</td>\n",
       "      <td>37.5</td>\n",
       "      <td>32.6</td>\n",
       "      <td>18.8</td>\n",
       "    </tr>\n",
       "  </tbody>\n",
       "</table>\n",
       "</div>"
      ],
      "text/plain": [
       "     Density  Age  Weight  Height  Neck  Chest  Abdomen    Hip  Thigh  Knee  \\\n",
       "20    1.0551   28  179.00   68.00  39.1  103.3     95.9  104.9   63.5  38.0   \n",
       "72    1.0796   56  160.75   73.75  36.4   93.6     82.9   96.3   52.9  37.5   \n",
       "194   1.0470   42  162.75   72.75  35.4   92.2     85.6   96.5   60.2  38.9   \n",
       "83    1.0377   70  170.75   70.00  38.7  101.8     94.9   95.0   56.0  36.5   \n",
       "187   1.0524   41  210.50   72.00  38.5  107.4     98.9  104.1   63.5  39.8   \n",
       "81    1.0382   64  150.25   67.25  38.1   97.1     89.0   96.9   54.8  38.0   \n",
       "16    1.0333   34  195.75   71.00  38.9  101.9     96.4  105.2   64.8  40.8   \n",
       "250   1.0399   72  190.75   70.50  38.9  108.3    101.3   97.8   56.0  41.6   \n",
       "137   1.0325   43  187.75   74.00  37.7   97.8     98.6  100.6   63.6  39.2   \n",
       "178   1.0477   38  187.25   69.25  38.0  102.7     92.7  101.9   64.7  39.5   \n",
       "248   1.0236   72  201.00   69.75  40.9  108.5    105.0  104.5   59.6  40.8   \n",
       "199   1.0462   43  170.75   67.50  37.4  103.7     89.7   94.2   58.5  39.0   \n",
       "100   1.0506   49  198.50   73.50  40.1  106.5     95.0  101.7   59.0  39.4   \n",
       "38    1.0202   46  363.15   72.25  51.2  136.2    148.1  147.7   87.3  49.1   \n",
       "127   1.0590   43  152.25   67.75  37.5   95.9     78.0   93.2   53.5  35.8   \n",
       "144   1.0754   23  188.15   77.50  38.0   96.6     85.3  102.5   59.1  37.6   \n",
       "98    1.0582   46  156.50   68.25  35.9   95.1     88.2   92.8   54.7  37.3   \n",
       "24    1.0668   28  151.25   67.75  34.5   90.2     76.3   95.8   58.4  35.5   \n",
       "39    1.0258   50  203.00   67.00  40.2  114.8    108.1  102.5   61.3  41.1   \n",
       "170   1.0926   35  152.25   67.75  37.0   92.2     81.9   92.8   54.7  36.2   \n",
       "82    1.0568   64  190.25   72.75  39.3  103.1     97.8   99.6   58.9  39.0   \n",
       "123   1.0623   47  151.50   66.75  36.9   94.0     86.1   95.2   58.1  36.5   \n",
       "63    1.0403   61  178.00   67.00  37.4  105.3     99.7   99.7   60.8  40.1   \n",
       "207   1.0254   47  195.00   72.50  40.2  102.7    101.3  101.7   60.7  39.4   \n",
       "223   1.0874   55  142.25   67.25  35.2   92.7     82.8   91.9   54.4  35.2   \n",
       "246   1.0308   69  215.50   70.50  40.8  113.7    107.6  110.0   63.3  44.0   \n",
       "\n",
       "     Ankle  Biceps  Forearm  Wrist  \n",
       "20    22.1    32.5     30.3   18.4  \n",
       "72    23.1    29.7     27.3   18.2  \n",
       "194   22.4    31.7     27.1   17.1  \n",
       "83    24.1    31.2     27.3   19.2  \n",
       "187   23.5    36.4     30.4   19.1  \n",
       "81    22.0    29.9     25.2   17.7  \n",
       "16    23.1    36.2     30.8   17.3  \n",
       "250   22.7    30.5     29.4   19.8  \n",
       "137   23.8    34.3     28.4   17.7  \n",
       "178   24.7    34.8     30.3   18.1  \n",
       "248   23.2    35.2     28.6   20.1  \n",
       "199   24.1    33.8     28.8   18.8  \n",
       "100   22.3    32.2     31.0   18.6  \n",
       "38    29.6    45.0     29.0   21.4  \n",
       "127   20.8    33.9     28.2   17.4  \n",
       "144   23.2    31.8     29.7   18.3  \n",
       "98    21.9    31.6     27.5   18.2  \n",
       "24    22.9    31.1     28.0   17.6  \n",
       "39    24.7    34.1     31.0   18.3  \n",
       "170   22.1    30.4     27.4   17.7  \n",
       "82    23.0    34.3     29.6   19.0  \n",
       "123   22.1    30.6     27.5   17.6  \n",
       "63    22.7    33.6     29.0   18.8  \n",
       "207   23.3    36.7     31.6   18.4  \n",
       "223   22.5    29.4     26.8   17.0  \n",
       "246   22.6    37.5     32.6   18.8  "
      ]
     },
     "execution_count": 23,
     "metadata": {},
     "output_type": "execute_result"
    }
   ],
   "source": [
    "x_test"
   ]
  },
  {
   "cell_type": "code",
   "execution_count": 24,
   "id": "0ca03a51",
   "metadata": {},
   "outputs": [
    {
     "data": {
      "text/plain": [
       "99     22.2\n",
       "233    26.7\n",
       "208     9.6\n",
       "15     20.9\n",
       "1       6.1\n",
       "       ... \n",
       "33     21.3\n",
       "109    21.4\n",
       "139    20.4\n",
       "224    10.9\n",
       "176    13.1\n",
       "Name: BodyFat, Length: 226, dtype: float64"
      ]
     },
     "execution_count": 24,
     "metadata": {},
     "output_type": "execute_result"
    }
   ],
   "source": [
    "y_train"
   ]
  },
  {
   "cell_type": "code",
   "execution_count": 25,
   "id": "613f264e",
   "metadata": {},
   "outputs": [
    {
     "data": {
      "text/plain": [
       "20     19.1\n",
       "72      8.5\n",
       "194    22.8\n",
       "83     27.0\n",
       "187    20.4\n",
       "81     26.8\n",
       "16     29.0\n",
       "250    26.0\n",
       "137    29.4\n",
       "178    22.5\n",
       "248    33.6\n",
       "199    23.6\n",
       "100    21.2\n",
       "38     35.2\n",
       "127    17.4\n",
       "144    10.3\n",
       "98     17.8\n",
       "24     14.0\n",
       "39     32.6\n",
       "170     3.0\n",
       "82     18.4\n",
       "123    16.0\n",
       "63     25.8\n",
       "207    32.8\n",
       "223     5.2\n",
       "246    30.2\n",
       "Name: BodyFat, dtype: float64"
      ]
     },
     "execution_count": 25,
     "metadata": {},
     "output_type": "execute_result"
    }
   ],
   "source": [
    "y_test"
   ]
  },
  {
   "cell_type": "code",
   "execution_count": 26,
   "id": "2fd13e75",
   "metadata": {},
   "outputs": [
    {
     "data": {
      "text/plain": [
       "(226, 14)"
      ]
     },
     "execution_count": 26,
     "metadata": {},
     "output_type": "execute_result"
    }
   ],
   "source": [
    "x_train.shape"
   ]
  },
  {
   "cell_type": "code",
   "execution_count": 27,
   "id": "eddb9c5d",
   "metadata": {},
   "outputs": [
    {
     "data": {
      "text/plain": [
       "(26, 14)"
      ]
     },
     "execution_count": 27,
     "metadata": {},
     "output_type": "execute_result"
    }
   ],
   "source": [
    "x_test.shape"
   ]
  },
  {
   "cell_type": "code",
   "execution_count": 28,
   "id": "2ac67200",
   "metadata": {},
   "outputs": [
    {
     "data": {
      "text/plain": [
       "(226,)"
      ]
     },
     "execution_count": 28,
     "metadata": {},
     "output_type": "execute_result"
    }
   ],
   "source": [
    "y_train.shape"
   ]
  },
  {
   "cell_type": "code",
   "execution_count": 29,
   "id": "2a04bf62",
   "metadata": {},
   "outputs": [
    {
     "data": {
      "text/plain": [
       "(26,)"
      ]
     },
     "execution_count": 29,
     "metadata": {},
     "output_type": "execute_result"
    }
   ],
   "source": [
    "y_test.shape"
   ]
  },
  {
   "cell_type": "markdown",
   "id": "49ecc481",
   "metadata": {},
   "source": [
    "# Importing regression from library"
   ]
  },
  {
   "cell_type": "code",
   "execution_count": 30,
   "id": "4d6733a8",
   "metadata": {},
   "outputs": [],
   "source": [
    "from sklearn.linear_model import LinearRegression"
   ]
  },
  {
   "cell_type": "markdown",
   "id": "aec1c514",
   "metadata": {},
   "source": [
    "# Applying Regression"
   ]
  },
  {
   "cell_type": "code",
   "execution_count": 31,
   "id": "9e388b71",
   "metadata": {},
   "outputs": [],
   "source": [
    "lm=LinearRegression()"
   ]
  },
  {
   "cell_type": "markdown",
   "id": "89d5c4e4",
   "metadata": {},
   "source": [
    "# Fitting Values"
   ]
  },
  {
   "cell_type": "code",
   "execution_count": 32,
   "id": "d6ffbc88",
   "metadata": {},
   "outputs": [
    {
     "data": {
      "text/plain": [
       "LinearRegression()"
      ]
     },
     "execution_count": 32,
     "metadata": {},
     "output_type": "execute_result"
    }
   ],
   "source": [
    "lm.fit(x_train,y_train)"
   ]
  },
  {
   "cell_type": "markdown",
   "id": "4145128a",
   "metadata": {},
   "source": [
    "# Prediction"
   ]
  },
  {
   "cell_type": "code",
   "execution_count": 33,
   "id": "fa954f66",
   "metadata": {},
   "outputs": [],
   "source": [
    "y_pred=lm.predict(x_test)"
   ]
  },
  {
   "cell_type": "code",
   "execution_count": 34,
   "id": "47b2a368",
   "metadata": {},
   "outputs": [
    {
     "data": {
      "text/plain": [
       "array([19.40823651,  9.12462087, 21.92294443, 26.59286102, 20.84122077,\n",
       "       26.08101586, 28.10981453, 26.50317603, 28.31750548, 22.04529061,\n",
       "       33.07422349, 22.42957799, 21.79018986, 37.27206766, 16.98602161,\n",
       "       10.75023029, 17.62728161, 13.47947843, 32.04828005,  3.35759052,\n",
       "       19.09487415, 15.91175856, 25.72766145, 31.54058326,  5.71758102,\n",
       "       30.5289369 ])"
      ]
     },
     "execution_count": 34,
     "metadata": {},
     "output_type": "execute_result"
    }
   ],
   "source": [
    "y_pred"
   ]
  },
  {
   "cell_type": "markdown",
   "id": "5fa029f3",
   "metadata": {},
   "source": [
    "# Check Dataframe"
   ]
  },
  {
   "cell_type": "code",
   "execution_count": 35,
   "id": "db12337f",
   "metadata": {},
   "outputs": [],
   "source": [
    "check=pandas.DataFrame(x_test,columns=['Weight'])"
   ]
  },
  {
   "cell_type": "code",
   "execution_count": 36,
   "id": "9f983333",
   "metadata": {},
   "outputs": [],
   "source": [
    "check['Actual body fat']=y_test"
   ]
  },
  {
   "cell_type": "code",
   "execution_count": 37,
   "id": "3354540a",
   "metadata": {},
   "outputs": [],
   "source": [
    "check['predicted body fat']=y_pred"
   ]
  },
  {
   "cell_type": "code",
   "execution_count": 38,
   "id": "e20c573e",
   "metadata": {},
   "outputs": [
    {
     "data": {
      "text/html": [
       "<div>\n",
       "<style scoped>\n",
       "    .dataframe tbody tr th:only-of-type {\n",
       "        vertical-align: middle;\n",
       "    }\n",
       "\n",
       "    .dataframe tbody tr th {\n",
       "        vertical-align: top;\n",
       "    }\n",
       "\n",
       "    .dataframe thead th {\n",
       "        text-align: right;\n",
       "    }\n",
       "</style>\n",
       "<table border=\"1\" class=\"dataframe\">\n",
       "  <thead>\n",
       "    <tr style=\"text-align: right;\">\n",
       "      <th></th>\n",
       "      <th>Weight</th>\n",
       "      <th>Actual body fat</th>\n",
       "      <th>predicted body fat</th>\n",
       "    </tr>\n",
       "  </thead>\n",
       "  <tbody>\n",
       "    <tr>\n",
       "      <th>20</th>\n",
       "      <td>179.00</td>\n",
       "      <td>19.1</td>\n",
       "      <td>19.408237</td>\n",
       "    </tr>\n",
       "    <tr>\n",
       "      <th>72</th>\n",
       "      <td>160.75</td>\n",
       "      <td>8.5</td>\n",
       "      <td>9.124621</td>\n",
       "    </tr>\n",
       "    <tr>\n",
       "      <th>194</th>\n",
       "      <td>162.75</td>\n",
       "      <td>22.8</td>\n",
       "      <td>21.922944</td>\n",
       "    </tr>\n",
       "    <tr>\n",
       "      <th>83</th>\n",
       "      <td>170.75</td>\n",
       "      <td>27.0</td>\n",
       "      <td>26.592861</td>\n",
       "    </tr>\n",
       "    <tr>\n",
       "      <th>187</th>\n",
       "      <td>210.50</td>\n",
       "      <td>20.4</td>\n",
       "      <td>20.841221</td>\n",
       "    </tr>\n",
       "    <tr>\n",
       "      <th>81</th>\n",
       "      <td>150.25</td>\n",
       "      <td>26.8</td>\n",
       "      <td>26.081016</td>\n",
       "    </tr>\n",
       "    <tr>\n",
       "      <th>16</th>\n",
       "      <td>195.75</td>\n",
       "      <td>29.0</td>\n",
       "      <td>28.109815</td>\n",
       "    </tr>\n",
       "    <tr>\n",
       "      <th>250</th>\n",
       "      <td>190.75</td>\n",
       "      <td>26.0</td>\n",
       "      <td>26.503176</td>\n",
       "    </tr>\n",
       "    <tr>\n",
       "      <th>137</th>\n",
       "      <td>187.75</td>\n",
       "      <td>29.4</td>\n",
       "      <td>28.317505</td>\n",
       "    </tr>\n",
       "    <tr>\n",
       "      <th>178</th>\n",
       "      <td>187.25</td>\n",
       "      <td>22.5</td>\n",
       "      <td>22.045291</td>\n",
       "    </tr>\n",
       "    <tr>\n",
       "      <th>248</th>\n",
       "      <td>201.00</td>\n",
       "      <td>33.6</td>\n",
       "      <td>33.074223</td>\n",
       "    </tr>\n",
       "    <tr>\n",
       "      <th>199</th>\n",
       "      <td>170.75</td>\n",
       "      <td>23.6</td>\n",
       "      <td>22.429578</td>\n",
       "    </tr>\n",
       "    <tr>\n",
       "      <th>100</th>\n",
       "      <td>198.50</td>\n",
       "      <td>21.2</td>\n",
       "      <td>21.790190</td>\n",
       "    </tr>\n",
       "    <tr>\n",
       "      <th>38</th>\n",
       "      <td>363.15</td>\n",
       "      <td>35.2</td>\n",
       "      <td>37.272068</td>\n",
       "    </tr>\n",
       "    <tr>\n",
       "      <th>127</th>\n",
       "      <td>152.25</td>\n",
       "      <td>17.4</td>\n",
       "      <td>16.986022</td>\n",
       "    </tr>\n",
       "    <tr>\n",
       "      <th>144</th>\n",
       "      <td>188.15</td>\n",
       "      <td>10.3</td>\n",
       "      <td>10.750230</td>\n",
       "    </tr>\n",
       "    <tr>\n",
       "      <th>98</th>\n",
       "      <td>156.50</td>\n",
       "      <td>17.8</td>\n",
       "      <td>17.627282</td>\n",
       "    </tr>\n",
       "    <tr>\n",
       "      <th>24</th>\n",
       "      <td>151.25</td>\n",
       "      <td>14.0</td>\n",
       "      <td>13.479478</td>\n",
       "    </tr>\n",
       "    <tr>\n",
       "      <th>39</th>\n",
       "      <td>203.00</td>\n",
       "      <td>32.6</td>\n",
       "      <td>32.048280</td>\n",
       "    </tr>\n",
       "    <tr>\n",
       "      <th>170</th>\n",
       "      <td>152.25</td>\n",
       "      <td>3.0</td>\n",
       "      <td>3.357591</td>\n",
       "    </tr>\n",
       "    <tr>\n",
       "      <th>82</th>\n",
       "      <td>190.25</td>\n",
       "      <td>18.4</td>\n",
       "      <td>19.094874</td>\n",
       "    </tr>\n",
       "    <tr>\n",
       "      <th>123</th>\n",
       "      <td>151.50</td>\n",
       "      <td>16.0</td>\n",
       "      <td>15.911759</td>\n",
       "    </tr>\n",
       "    <tr>\n",
       "      <th>63</th>\n",
       "      <td>178.00</td>\n",
       "      <td>25.8</td>\n",
       "      <td>25.727661</td>\n",
       "    </tr>\n",
       "    <tr>\n",
       "      <th>207</th>\n",
       "      <td>195.00</td>\n",
       "      <td>32.8</td>\n",
       "      <td>31.540583</td>\n",
       "    </tr>\n",
       "    <tr>\n",
       "      <th>223</th>\n",
       "      <td>142.25</td>\n",
       "      <td>5.2</td>\n",
       "      <td>5.717581</td>\n",
       "    </tr>\n",
       "    <tr>\n",
       "      <th>246</th>\n",
       "      <td>215.50</td>\n",
       "      <td>30.2</td>\n",
       "      <td>30.528937</td>\n",
       "    </tr>\n",
       "  </tbody>\n",
       "</table>\n",
       "</div>"
      ],
      "text/plain": [
       "     Weight  Actual body fat  predicted body fat\n",
       "20   179.00             19.1           19.408237\n",
       "72   160.75              8.5            9.124621\n",
       "194  162.75             22.8           21.922944\n",
       "83   170.75             27.0           26.592861\n",
       "187  210.50             20.4           20.841221\n",
       "81   150.25             26.8           26.081016\n",
       "16   195.75             29.0           28.109815\n",
       "250  190.75             26.0           26.503176\n",
       "137  187.75             29.4           28.317505\n",
       "178  187.25             22.5           22.045291\n",
       "248  201.00             33.6           33.074223\n",
       "199  170.75             23.6           22.429578\n",
       "100  198.50             21.2           21.790190\n",
       "38   363.15             35.2           37.272068\n",
       "127  152.25             17.4           16.986022\n",
       "144  188.15             10.3           10.750230\n",
       "98   156.50             17.8           17.627282\n",
       "24   151.25             14.0           13.479478\n",
       "39   203.00             32.6           32.048280\n",
       "170  152.25              3.0            3.357591\n",
       "82   190.25             18.4           19.094874\n",
       "123  151.50             16.0           15.911759\n",
       "63   178.00             25.8           25.727661\n",
       "207  195.00             32.8           31.540583\n",
       "223  142.25              5.2            5.717581\n",
       "246  215.50             30.2           30.528937"
      ]
     },
     "execution_count": 38,
     "metadata": {},
     "output_type": "execute_result"
    }
   ],
   "source": [
    "check"
   ]
  },
  {
   "cell_type": "markdown",
   "id": "c3c35da0",
   "metadata": {},
   "source": [
    "# Normalization"
   ]
  },
  {
   "cell_type": "code",
   "execution_count": 39,
   "id": "0fec3d04",
   "metadata": {},
   "outputs": [],
   "source": [
    "from sklearn.preprocessing import Normalizer"
   ]
  },
  {
   "cell_type": "code",
   "execution_count": 40,
   "id": "d7c737a8",
   "metadata": {},
   "outputs": [],
   "source": [
    "normalization_df=pandas.DataFrame({'x1':numpy.random.randint(-100,100,1000),'x2':numpy.random.randint(-80,80,1000),'x3':numpy.random.randint(-150,150,1000)})"
   ]
  },
  {
   "cell_type": "code",
   "execution_count": 41,
   "id": "f5f62b1b",
   "metadata": {},
   "outputs": [
    {
     "data": {
      "text/html": [
       "<div>\n",
       "<style scoped>\n",
       "    .dataframe tbody tr th:only-of-type {\n",
       "        vertical-align: middle;\n",
       "    }\n",
       "\n",
       "    .dataframe tbody tr th {\n",
       "        vertical-align: top;\n",
       "    }\n",
       "\n",
       "    .dataframe thead th {\n",
       "        text-align: right;\n",
       "    }\n",
       "</style>\n",
       "<table border=\"1\" class=\"dataframe\">\n",
       "  <thead>\n",
       "    <tr style=\"text-align: right;\">\n",
       "      <th></th>\n",
       "      <th>x1</th>\n",
       "      <th>x2</th>\n",
       "      <th>x3</th>\n",
       "    </tr>\n",
       "  </thead>\n",
       "  <tbody>\n",
       "    <tr>\n",
       "      <th>0</th>\n",
       "      <td>-19</td>\n",
       "      <td>24</td>\n",
       "      <td>-128</td>\n",
       "    </tr>\n",
       "    <tr>\n",
       "      <th>1</th>\n",
       "      <td>90</td>\n",
       "      <td>78</td>\n",
       "      <td>44</td>\n",
       "    </tr>\n",
       "    <tr>\n",
       "      <th>2</th>\n",
       "      <td>72</td>\n",
       "      <td>-1</td>\n",
       "      <td>99</td>\n",
       "    </tr>\n",
       "    <tr>\n",
       "      <th>3</th>\n",
       "      <td>-82</td>\n",
       "      <td>-36</td>\n",
       "      <td>63</td>\n",
       "    </tr>\n",
       "    <tr>\n",
       "      <th>4</th>\n",
       "      <td>-44</td>\n",
       "      <td>-77</td>\n",
       "      <td>-112</td>\n",
       "    </tr>\n",
       "    <tr>\n",
       "      <th>...</th>\n",
       "      <td>...</td>\n",
       "      <td>...</td>\n",
       "      <td>...</td>\n",
       "    </tr>\n",
       "    <tr>\n",
       "      <th>995</th>\n",
       "      <td>86</td>\n",
       "      <td>-63</td>\n",
       "      <td>91</td>\n",
       "    </tr>\n",
       "    <tr>\n",
       "      <th>996</th>\n",
       "      <td>-83</td>\n",
       "      <td>15</td>\n",
       "      <td>142</td>\n",
       "    </tr>\n",
       "    <tr>\n",
       "      <th>997</th>\n",
       "      <td>-6</td>\n",
       "      <td>-22</td>\n",
       "      <td>5</td>\n",
       "    </tr>\n",
       "    <tr>\n",
       "      <th>998</th>\n",
       "      <td>76</td>\n",
       "      <td>-22</td>\n",
       "      <td>40</td>\n",
       "    </tr>\n",
       "    <tr>\n",
       "      <th>999</th>\n",
       "      <td>-59</td>\n",
       "      <td>15</td>\n",
       "      <td>117</td>\n",
       "    </tr>\n",
       "  </tbody>\n",
       "</table>\n",
       "<p>1000 rows × 3 columns</p>\n",
       "</div>"
      ],
      "text/plain": [
       "     x1  x2   x3\n",
       "0   -19  24 -128\n",
       "1    90  78   44\n",
       "2    72  -1   99\n",
       "3   -82 -36   63\n",
       "4   -44 -77 -112\n",
       "..   ..  ..  ...\n",
       "995  86 -63   91\n",
       "996 -83  15  142\n",
       "997  -6 -22    5\n",
       "998  76 -22   40\n",
       "999 -59  15  117\n",
       "\n",
       "[1000 rows x 3 columns]"
      ]
     },
     "execution_count": 41,
     "metadata": {},
     "output_type": "execute_result"
    }
   ],
   "source": [
    "normalization_df"
   ]
  },
  {
   "cell_type": "code",
   "execution_count": 42,
   "id": "a68fcbd7",
   "metadata": {},
   "outputs": [],
   "source": [
    "normal=Normalizer()"
   ]
  },
  {
   "cell_type": "code",
   "execution_count": 43,
   "id": "2d28392d",
   "metadata": {},
   "outputs": [],
   "source": [
    "normalization_df=normal.fit_transform(normalization_df)"
   ]
  },
  {
   "cell_type": "code",
   "execution_count": 44,
   "id": "cd9eb0f6",
   "metadata": {},
   "outputs": [
    {
     "data": {
      "text/plain": [
       "array([[-0.14436673,  0.18235797, -0.97257587],\n",
       "       [ 0.70885922,  0.61434465,  0.34655339],\n",
       "       [ 0.58815207, -0.00816878,  0.8087091 ],\n",
       "       ...,\n",
       "       [-0.25701176, -0.94237646,  0.21417647],\n",
       "       [ 0.85723979, -0.24814836,  0.45117883],\n",
       "       [-0.44734212,  0.11373105,  0.88710218]])"
      ]
     },
     "execution_count": 44,
     "metadata": {},
     "output_type": "execute_result"
    }
   ],
   "source": [
    "normalization_df"
   ]
  },
  {
   "cell_type": "markdown",
   "id": "bd58e3f4",
   "metadata": {},
   "source": [
    "# Performance Metrics"
   ]
  },
  {
   "cell_type": "markdown",
   "id": "56657e0c",
   "metadata": {},
   "source": [
    "## importing metrices from library"
   ]
  },
  {
   "cell_type": "code",
   "execution_count": 45,
   "id": "ab0a4458",
   "metadata": {},
   "outputs": [],
   "source": [
    "from sklearn.metrics import mean_squared_error,mean_absolute_error,r2_score"
   ]
  },
  {
   "cell_type": "markdown",
   "id": "b3856f84",
   "metadata": {},
   "source": [
    "## Mean squared error"
   ]
  },
  {
   "cell_type": "code",
   "execution_count": 46,
   "id": "7a7a02a6",
   "metadata": {},
   "outputs": [
    {
     "data": {
      "text/plain": [
       "0.5542025861150672"
      ]
     },
     "execution_count": 46,
     "metadata": {},
     "output_type": "execute_result"
    }
   ],
   "source": [
    "mean_squared_error(y_test,y_pred)"
   ]
  },
  {
   "cell_type": "markdown",
   "id": "e61f26dc",
   "metadata": {},
   "source": [
    "## Mean absolute error"
   ]
  },
  {
   "cell_type": "code",
   "execution_count": 47,
   "id": "8525d71d",
   "metadata": {},
   "outputs": [
    {
     "data": {
      "text/plain": [
       "0.6190163932121966"
      ]
     },
     "execution_count": 47,
     "metadata": {},
     "output_type": "execute_result"
    }
   ],
   "source": [
    "mean_absolute_error(y_test,y_pred)"
   ]
  },
  {
   "cell_type": "markdown",
   "id": "d5de9196",
   "metadata": {},
   "source": [
    "## R-Squared score"
   ]
  },
  {
   "cell_type": "code",
   "execution_count": 48,
   "id": "b81526df",
   "metadata": {},
   "outputs": [
    {
     "data": {
      "text/plain": [
       "0.992479644502033"
      ]
     },
     "execution_count": 48,
     "metadata": {},
     "output_type": "execute_result"
    }
   ],
   "source": [
    "r2_score(y_test,y_pred)"
   ]
  },
  {
   "cell_type": "markdown",
   "id": "4d2f23c8",
   "metadata": {},
   "source": [
    "## Measure of spread"
   ]
  },
  {
   "cell_type": "markdown",
   "id": "11621f08",
   "metadata": {},
   "source": [
    "### range"
   ]
  },
  {
   "cell_type": "code",
   "execution_count": 49,
   "id": "a749e5fb",
   "metadata": {},
   "outputs": [
    {
     "data": {
      "text/plain": [
       "59"
      ]
     },
     "execution_count": 49,
     "metadata": {},
     "output_type": "execute_result"
    }
   ],
   "source": [
    "max(bodyfat['Age'])-min(bodyfat['Age'])"
   ]
  },
  {
   "cell_type": "markdown",
   "id": "c4302b46",
   "metadata": {},
   "source": [
    "### Quantile"
   ]
  },
  {
   "cell_type": "code",
   "execution_count": 50,
   "id": "2d92edac",
   "metadata": {},
   "outputs": [],
   "source": [
    "data_quant=[bodyfat['Neck'].quantile(0),\n",
    "            bodyfat['Neck'].quantile(0.25),\n",
    "            bodyfat['Neck'].quantile(0.50),\n",
    "            bodyfat['Neck'].quantile(0.75),\n",
    "            bodyfat['Neck'].quantile(1),]"
   ]
  },
  {
   "cell_type": "code",
   "execution_count": 51,
   "id": "f8b1af5a",
   "metadata": {},
   "outputs": [
    {
     "data": {
      "text/plain": [
       "[31.1, 36.4, 38.0, 39.425, 51.2]"
      ]
     },
     "execution_count": 51,
     "metadata": {},
     "output_type": "execute_result"
    }
   ],
   "source": [
    "data_quant"
   ]
  },
  {
   "cell_type": "markdown",
   "id": "8a8a7d34",
   "metadata": {},
   "source": [
    "## Creating data"
   ]
  },
  {
   "cell_type": "code",
   "execution_count": 60,
   "id": "e1f70a6f",
   "metadata": {},
   "outputs": [],
   "source": [
    "data=['BodyFat','Age','Hip','Weight','Height']\n",
    "percentage=[23,31,30,19,7]"
   ]
  },
  {
   "cell_type": "markdown",
   "id": "cb1bac2e",
   "metadata": {},
   "source": [
    "## importing libraries"
   ]
  },
  {
   "cell_type": "code",
   "execution_count": 61,
   "id": "4c9b8e0d",
   "metadata": {},
   "outputs": [],
   "source": [
    "import matplotlib.pyplot as plt\n",
    "%matplotlib inline"
   ]
  },
  {
   "cell_type": "markdown",
   "id": "8d0119a6",
   "metadata": {},
   "source": [
    "## Scatter plot\n"
   ]
  },
  {
   "cell_type": "code",
   "execution_count": 63,
   "id": "458264ca",
   "metadata": {},
   "outputs": [
    {
     "data": {
      "text/plain": [
       "<matplotlib.collections.PathCollection at 0xf71f10>"
      ]
     },
     "execution_count": 63,
     "metadata": {},
     "output_type": "execute_result"
    },
    {
     "data": {
      "image/png": "[encoded data removed]",
      "text/plain": [
       "<Figure size 432x288 with 1 Axes>"
      ]
     },
     "metadata": {
      "needs_background": "light"
     },
     "output_type": "display_data"
    }
   ],
   "source": [
    "plt.scatter(data,percentage)"
   ]
  },
  {
   "cell_type": "markdown",
   "id": "a9945035",
   "metadata": {},
   "source": [
    "## line plot\n"
   ]
  },
  {
   "cell_type": "code",
   "execution_count": 65,
   "id": "c04d2329",
   "metadata": {},
   "outputs": [
    {
     "data": {
      "text/plain": [
       "[<matplotlib.lines.Line2D at 0xfa5b50>]"
      ]
     },
     "execution_count": 65,
     "metadata": {},
     "output_type": "execute_result"
    },
    {
     "data": {
      "image/png": "[encoded data removed]",
      "text/plain": [
       "<Figure size 432x288 with 1 Axes>"
      ]
     },
     "metadata": {
      "needs_background": "light"
     },
     "output_type": "display_data"
    }
   ],
   "source": [
    "plt.plot(data,percentage,linestyle='dashdot')"
   ]
  },
  {
   "cell_type": "code",
   "execution_count": 66,
   "id": "2c158142",
   "metadata": {},
   "outputs": [
    {
     "data": {
      "text/plain": [
       "[<matplotlib.lines.Line2D at 0xfdb6e8>]"
      ]
     },
     "execution_count": 66,
     "metadata": {},
     "output_type": "execute_result"
    },
    {
     "data": {
      "image/png": "[encoded data removed]",
      "text/plain": [
       "<Figure size 432x288 with 1 Axes>"
      ]
     },
     "metadata": {
      "needs_background": "light"
     },
     "output_type": "display_data"
    }
   ],
   "source": [
    "plt.plot(data,percentage,linestyle='solid')"
   ]
  },
  {
   "cell_type": "markdown",
   "id": "b09df13d",
   "metadata": {},
   "source": [
    "## pie chart\n"
   ]
  },
  {
   "cell_type": "code",
   "execution_count": 67,
   "id": "87958d10",
   "metadata": {},
   "outputs": [
    {
     "data": {
      "text/plain": [
       "([<matplotlib.patches.Wedge at 0xf3c98f8>,\n",
       "  <matplotlib.patches.Wedge at 0xfe56e8>,\n",
       "  <matplotlib.patches.Wedge at 0xfc8448>,\n",
       "  <matplotlib.patches.Wedge at 0xfc8910>,\n",
       "  <matplotlib.patches.Wedge at 0xfc8b08>],\n",
       " [Text(0.8710924825208285, 0.6717126520289016, 'BodyFat'),\n",
       "  Text(-0.6465637441936393, 0.8899187180267096, 'Age'),\n",
       "  Text(-0.7666313362636589, -0.788844974794539, 'Hip'),\n",
       "  Text(0.6465637858537406, -0.8899186877588753, 'Weight'),\n",
       "  Text(1.078090817945368, -0.21844950963984183, 'Height')])"
      ]
     },
     "execution_count": 67,
     "metadata": {},
     "output_type": "execute_result"
    },
    {
     "data": {
      "image/png": "[encoded data removed]",
      "text/plain": [
       "<Figure size 432x288 with 1 Axes>"
      ]
     },
     "metadata": {},
     "output_type": "display_data"
    }
   ],
   "source": [
    "plt.pie(percentage,labels=data)"
   ]
  },
  {
   "cell_type": "code",
   "execution_count": null,
   "id": "934105a0",
   "metadata": {},
   "outputs": [],
   "source": []
  }
 ],
 "metadata": {
  "kernelspec": {
   "display_name": "Python 3",
   "language": "python",
   "name": "python3"
  },
  "language_info": {
   "codemirror_mode": {
    "name": "ipython",
    "version": 3
   },
   "file_extension": ".py",
   "mimetype": "text/x-python",
   "name": "python",
   "nbconvert_exporter": "python",
   "pygments_lexer": "ipython3",
   "version": "3.8.8"
  }
 },
 "nbformat": 4,
 "nbformat_minor": 5
}
